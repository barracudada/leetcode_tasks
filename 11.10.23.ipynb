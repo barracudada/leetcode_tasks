{
 "cells": [
  {
   "cell_type": "markdown",
   "id": "202bc9d1",
   "metadata": {},
   "source": [
    "804. Unique Morse Code Words\n",
    "\n",
    "International Morse Code defines a standard encoding where each letter is mapped to a series of dots and dashes, as follows:\n",
    "'a' maps to \".-\",\n",
    "'b' maps to \"-...\",\n",
    "'c' maps to \"-.-.\", and so on.\n",
    "For convenience, the full table for the 26 letters of the English alphabet is given below:\n",
    "\n",
    "[\".-\",\"-...\",\"-.-.\",\"-..\",\".\",\"..-.\",\"--.\",\"....\",\"..\",\".---\",\"-.-\",\".-..\",\"--\",\"-.\",\"---\",\".--.\",\"--.-\",\".-.\",\"...\",\"-\",\"..-\",\"...-\",\".--\",\"-..-\",\"-.--\",\"--..\"]\n",
    "Given an array of strings words where each word can be written as a concatenation of the Morse code of each letter.\n",
    "\n",
    "For example, \"cab\" can be written as \"-.-..--...\", which is the concatenation of \"-.-.\", \".-\", and \"-...\". We will call such a concatenation the transformation of a word.\n",
    "Return the number of different transformations among all words we have."
   ]
  },
  {
   "cell_type": "code",
   "execution_count": null,
   "id": "0efd93fe",
   "metadata": {},
   "outputs": [],
   "source": [
    "class Solution:\n",
    "    def uniqueMorseRepresentations(self, words: List[str]) -> int:\n",
    "        m_c = [\".-\",\"-...\",\"-.-.\",\"-..\",\".\",\"..-.\",\"--.\",\"....\",\"..\",\".---\",\"-.-\",\".-..\",\"--\",\"-.\",\"---\",\".--.\",\"--.-\",\".-.\",\"...\",\"-\",\"..-\",\"...-\",\".--\",\"-..-\",\"-.--\",\"--..\"]\n",
    "        letters = \"abcdefghijklmnopqrstuvwxyz\"\n",
    "\n",
    "        m_d = dict(zip(letters, m_c))\n",
    "        itg = []\n",
    "        for w in words:\n",
    "            x = ''\n",
    "            for l in w:\n",
    "                x += '' + m_d[l]\n",
    "            itg.append(x)\n",
    "\n",
    "        return(len(set(itg)))"
   ]
  },
  {
   "cell_type": "markdown",
   "id": "828daca6",
   "metadata": {},
   "source": [
    "1684. Count the Number of Consistent Strings\n",
    "\n",
    "You are given a string allowed consisting of distinct characters and an array of strings words. A string is consistent if all characters in the string appear in the string allowed.\n",
    "\n",
    "Return the number of consistent strings in the array words."
   ]
  },
  {
   "cell_type": "code",
   "execution_count": null,
   "id": "748ffdc7",
   "metadata": {},
   "outputs": [],
   "source": [
    "class Solution:\n",
    "    def countConsistentStrings(self, allowed: str, words: List[str]) -> int:\n",
    "        allowed = list(allowed)\n",
    "        itg = set(words)\n",
    "        for w in words:\n",
    "            for i in set(list(w)):\n",
    "                if i not in allowed:\n",
    "                    itg -= 1\n",
    "                    break\n",
    "                    \n",
    "        return(itg)\n",
    "    \n",
    "# class Solution:\n",
    "#     def countConsistentStrings(self, allowed: str, words: List[str]) -> int:\n",
    "#         return(sum(set(allowed) >= set(i) for i in words))"
   ]
  },
  {
   "cell_type": "markdown",
   "id": "8d585c87",
   "metadata": {},
   "source": [
    "1732. Find the Highest Altitude\n",
    "\n",
    "There is a biker going on a road trip. The road trip consists of n + 1 points at different altitudes. The biker starts his trip on point 0 with altitude equal 0.\n",
    "\n",
    "You are given an integer array gain of length n where gain[i] is the net gain in altitude between points i​​​​​​ and i + 1 for all (0 <= i < n). Return the highest altitude of a point.\n"
   ]
  },
  {
   "cell_type": "code",
   "execution_count": null,
   "id": "af653147",
   "metadata": {},
   "outputs": [],
   "source": [
    "class Solution:\n",
    "    def largestAltitude(self, gain: List[int]) -> int:\n",
    "        al = [0]\n",
    "        for i in range(len(gain)):\n",
    "            al.insert(i+1, al[i]+gain[i])\n",
    "        return(max(al))\n",
    "    \n",
    "# class Solution(object):\n",
    "#     def largestAltitude(self, gain):\n",
    "#         result = 0\n",
    "#         current_altitude=0\n",
    "#         for g in gain:\n",
    "#             current_altitude += g\n",
    "#             if current_altitude > result:\n",
    "#                 result = current_altitude\n",
    "#         return result"
   ]
  },
  {
   "cell_type": "markdown",
   "id": "d2bffb1c",
   "metadata": {},
   "source": [
    "2810. Faulty Keyboard\n",
    "\n",
    "Your laptop keyboard is faulty, and whenever you type a character 'i' on it, it reverses the string that you have written. Typing other characters works as expected.\n",
    "\n",
    "You are given a 0-indexed string s, and you type each character of s using your faulty keyboard.\n",
    "\n",
    "Return the final string that will be present on your laptop screen."
   ]
  },
  {
   "cell_type": "code",
   "execution_count": null,
   "id": "7e43c39f",
   "metadata": {},
   "outputs": [],
   "source": [
    "class Solution:\n",
    "    def finalString(self, s: str) -> str:\n",
    "        s = list(s)\n",
    "\n",
    "        itg = ''\n",
    "        for i in s:\n",
    "            if i != 'i':\n",
    "                itg += i\n",
    "            else:\n",
    "                itg = itg[::-1]\n",
    "                \n",
    "        return(itg)\n",
    "    \n",
    "# class Solution:\n",
    "#     def finalString(self, s: str) -> str:\n",
    "#         printed = collections.deque()\n",
    "#         cnt_i = 0\n",
    "#         for c in s:\n",
    "#             if c == 'i':\n",
    "#                 cnt_i += 1\n",
    "#             else:\n",
    "#                 if cnt_i % 2:\n",
    "#                     printed.appendleft(c)\n",
    "#                 else:\n",
    "#                     printed.append(c)\n",
    "#         ans = \"\"\n",
    "#         if cnt_i % 2:\n",
    "#             while printed:\n",
    "#                 ans += printed.pop()\n",
    "#         else:\n",
    "#             while printed:\n",
    "#                 ans += printed.popleft()\n",
    "#         return ans"
   ]
  },
  {
   "cell_type": "markdown",
   "id": "bf01c8a5",
   "metadata": {},
   "source": [
    "1323. Maximum 69 Number\n",
    "\n",
    "You are given a positive integer num consisting only of digits 6 and 9.\n",
    "\n",
    "Return the maximum number you can get by changing at most one digit (6 becomes 9, and 9 becomes 6)."
   ]
  },
  {
   "cell_type": "code",
   "execution_count": null,
   "id": "830bf2d0",
   "metadata": {},
   "outputs": [],
   "source": [
    "class Solution:\n",
    "    def maximum69Number (self, num: int) -> int:\n",
    "        num = str(num)\n",
    "        x = ''\n",
    "        cnt = 0\n",
    "        for i in num:\n",
    "            if cnt == 0:\n",
    "                if i == '6':\n",
    "                    x += '9'\n",
    "                    cnt += 1\n",
    "                else:\n",
    "                    x += i\n",
    "            else:\n",
    "                x += i\n",
    "        return(int(x))"
   ]
  }
 ],
 "metadata": {
  "kernelspec": {
   "display_name": "Python 3",
   "language": "python",
   "name": "python3"
  },
  "language_info": {
   "codemirror_mode": {
    "name": "ipython",
    "version": 3
   },
   "file_extension": ".py",
   "mimetype": "text/x-python",
   "name": "python",
   "nbconvert_exporter": "python",
   "pygments_lexer": "ipython3",
   "version": "3.8.8"
  }
 },
 "nbformat": 4,
 "nbformat_minor": 5
}
