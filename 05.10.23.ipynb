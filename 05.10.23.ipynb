{
 "cells": [
  {
   "cell_type": "markdown",
   "id": "2e9ce633",
   "metadata": {},
   "source": [
    "1281. Subtract the Product and Sum of Digits of an Integer\n",
    "\n",
    "Given an integer number n, return the difference between the product of its digits and the sum of its digits."
   ]
  },
  {
   "cell_type": "code",
   "execution_count": 23,
   "id": "4395685b",
   "metadata": {},
   "outputs": [],
   "source": [
    "class Solution:\n",
    "    def subtractProductAndSum(self, n: int) -> int:\n",
    "        s = 0\n",
    "        p = 1\n",
    "        while n>0:\n",
    "            s += n%10\n",
    "            p *= n%10\n",
    "            n = n//10\n",
    "        return(p - s)"
   ]
  },
  {
   "cell_type": "markdown",
   "id": "5b55e604",
   "metadata": {},
   "source": [
    "2160. Minimum Sum of Four Digit Number After Splitting Digits\n",
    "\n",
    "You are given a positive integer num consisting of exactly four digits. Split num into two new integers new1 and new2 by using the digits found in num. Leading zeros are allowed in new1 and new2, and all the digits found in num must be used.\n",
    "\n",
    "For example, given num = 2932, you have the following digits: two 2's, one 9 and one 3. Some of the possible pairs [new1, new2] are [22, 93], [23, 92], [223, 9] and [2, 329].\n",
    "Return the minimum possible sum of new1 and new2."
   ]
  },
  {
   "cell_type": "code",
   "execution_count": 58,
   "id": "c2606649",
   "metadata": {},
   "outputs": [
    {
     "data": {
      "text/plain": [
       "52"
      ]
     },
     "execution_count": 58,
     "metadata": {},
     "output_type": "execute_result"
    }
   ],
   "source": [
    "class Solution:\n",
    "    def minimumSum(self, num: int) -> int:\n",
    "        a = sorted(str(num))\n",
    "        return int(a[0] + a[2]) + int(a[1] + a[3])"
   ]
  },
  {
   "cell_type": "markdown",
   "id": "b201d044",
   "metadata": {},
   "source": [
    "2574. Left and Right Sum Differences\n",
    "\n",
    "Given a 0-indexed integer array nums, find a 0-indexed integer array answer where:\n",
    "\n",
    "answer.length == nums.length.\n",
    "answer[i] = |leftSum[i] - rightSum[i]|.\n",
    "Where:\n",
    "\n",
    "leftSum[i] is the sum of elements to the left of the index i in the array nums. If there is no such element, leftSum[i] = 0.\n",
    "rightSum[i] is the sum of elements to the right of the index i in the array nums. If there is no such element, rightSum[i] = 0.\n",
    "Return the array answer."
   ]
  },
  {
   "cell_type": "code",
   "execution_count": 77,
   "id": "4cfe4242",
   "metadata": {},
   "outputs": [],
   "source": [
    "class Solution:\n",
    "    def leftRightDifference(self, nums: List[int]) -> List[int]:\n",
    "        pr = []\n",
    "        for i in range(len(nums)):\n",
    "            pr.append(abs(sum(nums[:i]) - sum(nums[i+1:])))\n",
    "        return(pr)"
   ]
  },
  {
   "cell_type": "markdown",
   "id": "cb197ee4",
   "metadata": {},
   "source": [
    "1720. Decode XORed Array\n",
    "\n",
    "There is a hidden integer array arr that consists of n non-negative integers.\n",
    "\n",
    "It was encoded into another integer array encoded of length n - 1, such that encoded[i] = arr[i] XOR arr[i + 1]. For example, if arr = [1,0,2,1], then encoded = [1,2,3].\n",
    "\n",
    "You are given the encoded array. You are also given an integer first, that is the first element of arr, i.e. arr[0].\n",
    "\n",
    "Return the original array arr. It can be proved that the answer exists and is unique."
   ]
  },
  {
   "cell_type": "code",
   "execution_count": 83,
   "id": "21263a38",
   "metadata": {},
   "outputs": [
    {
     "data": {
      "text/plain": [
       "[1, 0, 2, 1]"
      ]
     },
     "execution_count": 83,
     "metadata": {},
     "output_type": "execute_result"
    }
   ],
   "source": [
    "class Solution:\n",
    "    def decode(self, encoded: List[int], first: int) -> List[int]:\n",
    "        encoded.insert(0, first)\n",
    "        for i in range(1, len(encoded)):\n",
    "            encoded[i] = encoded[i]^encoded[i-1]\n",
    "        return(encoded)"
   ]
  },
  {
   "cell_type": "markdown",
   "id": "6aef3ad9",
   "metadata": {},
   "source": [
    "1389. Create Target Array in the Given Order\n",
    "\n",
    "Given two arrays of integers nums and index. Your task is to create target array under the following rules:\n",
    "\n",
    "Initially target array is empty.\n",
    "From left to right read nums[i] and index[i], insert at index index[i] the value nums[i] in target array.\n",
    "Repeat the previous step until there are no elements to read in nums and index.\n",
    "Return the target array.\n",
    "\n",
    "It is guaranteed that the insertion operations will be valid."
   ]
  },
  {
   "cell_type": "code",
   "execution_count": 95,
   "id": "4beaf0b4",
   "metadata": {},
   "outputs": [
    {
     "data": {
      "text/plain": [
       "[0, 1, 2, 3, 4]"
      ]
     },
     "execution_count": 95,
     "metadata": {},
     "output_type": "execute_result"
    }
   ],
   "source": [
    "class Solution:\n",
    "    def createTargetArray(self, nums: List[int], index: List[int]) -> List[int]:\n",
    "        target = []\n",
    "\n",
    "        for i in range(len(nums)):\n",
    "            target.insert(index[i], nums[i])\n",
    "            \n",
    "        return(target)"
   ]
  },
  {
   "cell_type": "code",
   "execution_count": null,
   "id": "ccf09ba5",
   "metadata": {},
   "outputs": [],
   "source": []
  },
  {
   "cell_type": "code",
   "execution_count": null,
   "id": "18472c3b",
   "metadata": {},
   "outputs": [],
   "source": []
  },
  {
   "cell_type": "code",
   "execution_count": null,
   "id": "8bcc2415",
   "metadata": {},
   "outputs": [],
   "source": []
  }
 ],
 "metadata": {
  "kernelspec": {
   "display_name": "Python 3",
   "language": "python",
   "name": "python3"
  },
  "language_info": {
   "codemirror_mode": {
    "name": "ipython",
    "version": 3
   },
   "file_extension": ".py",
   "mimetype": "text/x-python",
   "name": "python",
   "nbconvert_exporter": "python",
   "pygments_lexer": "ipython3",
   "version": "3.8.8"
  }
 },
 "nbformat": 4,
 "nbformat_minor": 5
}
