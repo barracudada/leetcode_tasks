{
 "cells": [
  {
   "cell_type": "markdown",
   "id": "bca98b98",
   "metadata": {},
   "source": [
    "1313. Decompress Run-Length Encoded List\n",
    "\n",
    "We are given a list nums of integers representing a list compressed with run-length encoding.\n",
    "\n",
    "Consider each adjacent pair of elements [freq, val] = [nums[2*i], nums[2*i+1]] (with i >= 0).  For each such pair, there are freq elements with value val concatenated in a sublist. Concatenate all the sublists from left to right to generate the decompressed list.\n",
    "\n",
    "Return the decompressed list."
   ]
  },
  {
   "cell_type": "code",
   "execution_count": 37,
   "id": "ca9354e0",
   "metadata": {},
   "outputs": [
    {
     "data": {
      "text/plain": [
       "[1, 3, 3]"
      ]
     },
     "execution_count": 37,
     "metadata": {},
     "output_type": "execute_result"
    }
   ],
   "source": [
    "class Solution:\n",
    "    def decompressRLElist(self, nums: List[int]) -> List[int]:\n",
    "        p = []\n",
    "        for i in range(0, len(nums), 2):\n",
    "            freq = nums[i]\n",
    "            val = nums[i+1]\n",
    "            p += [val] * freq\n",
    "        return(p)"
   ]
  },
  {
   "cell_type": "markdown",
   "id": "51894e8c",
   "metadata": {},
   "source": [
    "1221. Split a String in Balanced Strings\n",
    "\n",
    "Balanced strings are those that have an equal quantity of 'L' and 'R' characters.\n",
    "\n",
    "Given a balanced string s, split it into some number of substrings such that:\n",
    "\n",
    "Each substring is balanced.\n",
    "Return the maximum number of balanced strings you can obtain."
   ]
  },
  {
   "cell_type": "code",
   "execution_count": 40,
   "id": "f15033ab",
   "metadata": {},
   "outputs": [
    {
     "data": {
      "text/plain": [
       "2"
      ]
     },
     "execution_count": 40,
     "metadata": {},
     "output_type": "execute_result"
    }
   ],
   "source": [
    "class Solution:\n",
    "    def balancedStringSplit(self, s: str) -> int:\n",
    "        r = []\n",
    "        l = []\n",
    "        x = 0\n",
    "        for i in s:\n",
    "            if i == 'R':\n",
    "                r.append(i)\n",
    "            else:\n",
    "                l.append(i)\n",
    "            \n",
    "            if len(r)==len(l):\n",
    "                x+=1\n",
    "                r = []\n",
    "                l = []\n",
    "        return(x)"
   ]
  },
  {
   "cell_type": "markdown",
   "id": "7080d96d",
   "metadata": {},
   "source": [
    "1486. XOR Operation in an Array\n",
    "\n",
    "You are given an integer n and an integer start.\n",
    "\n",
    "Define an array nums where nums[i] = start + 2 * i (0-indexed) and n == nums.length.\n",
    "\n",
    "Return the bitwise XOR of all elements of nums."
   ]
  },
  {
   "cell_type": "code",
   "execution_count": 42,
   "id": "d327f8cb",
   "metadata": {},
   "outputs": [
    {
     "data": {
      "text/plain": [
       "8"
      ]
     },
     "execution_count": 42,
     "metadata": {},
     "output_type": "execute_result"
    }
   ],
   "source": [
    "class Solution:\n",
    "    def xorOperation(self, n: int, start: int) -> int:\n",
    "        ans = 0\n",
    "        for i in range(n):\n",
    "            ans ^= start\n",
    "            start+=2\n",
    "        return(ans)"
   ]
  },
  {
   "cell_type": "markdown",
   "id": "5b47418f",
   "metadata": {},
   "source": [
    "1342. Number of Steps to Reduce a Number to Zero\n",
    "\n",
    "Given an integer num, return the number of steps to reduce it to zero.\n",
    "\n",
    "In one step, if the current number is even, you have to divide it by 2, otherwise, you have to subtract 1 from it.\n",
    "\n"
   ]
  },
  {
   "cell_type": "code",
   "execution_count": 43,
   "id": "5b3137c8",
   "metadata": {},
   "outputs": [
    {
     "data": {
      "text/plain": [
       "6"
      ]
     },
     "execution_count": 43,
     "metadata": {},
     "output_type": "execute_result"
    }
   ],
   "source": [
    "class Solution:\n",
    "    def numberOfSteps(self, num: int) -> int:\n",
    "        x = 0\n",
    "        while num!=0:\n",
    "            if num%2==0:\n",
    "                num /= 2\n",
    "                x += 1 \n",
    "            else:\n",
    "                num -= 1\n",
    "                x += 1\n",
    "        return(x)"
   ]
  },
  {
   "cell_type": "markdown",
   "id": "98884861",
   "metadata": {},
   "source": [
    "2652. Sum Multiples\n",
    "\n",
    "Given a positive integer n, find the sum of all integers in the range [1, n] inclusive that are divisible by 3, 5, or 7.\n",
    "\n",
    "Return an integer denoting the sum of all numbers in the given range satisfying the constraint."
   ]
  },
  {
   "cell_type": "code",
   "execution_count": 53,
   "id": "da7028d2",
   "metadata": {},
   "outputs": [
    {
     "data": {
      "text/plain": [
       "40"
      ]
     },
     "execution_count": 53,
     "metadata": {},
     "output_type": "execute_result"
    }
   ],
   "source": [
    "n = 10\n",
    "x = 0\n",
    "for i in range(1, n+1):\n",
    "    if i%3==0 or i%5==0 or i%7==0:\n",
    "        x += i\n",
    "        \n",
    "x"
   ]
  },
  {
   "cell_type": "code",
   "execution_count": 51,
   "id": "5cdcac29",
   "metadata": {},
   "outputs": [
    {
     "name": "stdout",
     "output_type": "stream",
     "text": [
      "3\n",
      "5\n",
      "6\n",
      "7\n"
     ]
    },
    {
     "data": {
      "text/plain": [
       "[None, None, None, None]"
      ]
     },
     "execution_count": 51,
     "metadata": {},
     "output_type": "execute_result"
    }
   ],
   "source": [
    "[print(j) for j in list(range(1, n+1)) if (j%3==0 or j%5==0 or j%7==0)]"
   ]
  },
  {
   "cell_type": "code",
   "execution_count": null,
   "id": "c5ff0c07",
   "metadata": {},
   "outputs": [],
   "source": [
    "\n",
    "\n",
    " \n",
    "\n",
    "Example 1:\n",
    "\n",
    "Input: n = 7\n",
    "Output: 21\n",
    "Explanation: Numbers in the range [1, 7] that are divisible by 3, 5, or 7 are 3, 5, 6, 7. The sum of these numbers is 21.\n",
    "Example 2:\n",
    "\n",
    "Input: n = 10\n",
    "Output: 40\n",
    "Explanation: Numbers in the range [1, 10] that are divisible by 3, 5, or 7 are 3, 5, 6, 7, 9, 10. The sum of these numbers is 40."
   ]
  },
  {
   "cell_type": "code",
   "execution_count": null,
   "id": "50ab9ef2",
   "metadata": {},
   "outputs": [],
   "source": []
  },
  {
   "cell_type": "code",
   "execution_count": null,
   "id": "badae604",
   "metadata": {},
   "outputs": [],
   "source": []
  },
  {
   "cell_type": "code",
   "execution_count": null,
   "id": "95352d27",
   "metadata": {},
   "outputs": [],
   "source": []
  },
  {
   "cell_type": "code",
   "execution_count": null,
   "id": "9717d830",
   "metadata": {},
   "outputs": [],
   "source": []
  },
  {
   "cell_type": "code",
   "execution_count": null,
   "id": "4d62a651",
   "metadata": {},
   "outputs": [],
   "source": []
  },
  {
   "cell_type": "code",
   "execution_count": null,
   "id": "9c07563e",
   "metadata": {},
   "outputs": [],
   "source": []
  }
 ],
 "metadata": {
  "kernelspec": {
   "display_name": "Python 3 (ipykernel)",
   "language": "python",
   "name": "python3"
  },
  "language_info": {
   "codemirror_mode": {
    "name": "ipython",
    "version": 3
   },
   "file_extension": ".py",
   "mimetype": "text/x-python",
   "name": "python",
   "nbconvert_exporter": "python",
   "pygments_lexer": "ipython3",
   "version": "3.9.10"
  }
 },
 "nbformat": 4,
 "nbformat_minor": 5
}
