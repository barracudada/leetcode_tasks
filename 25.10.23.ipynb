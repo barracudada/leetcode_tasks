{
 "cells": [
  {
   "cell_type": "markdown",
   "id": "f367b504",
   "metadata": {},
   "source": [
    "1812. Determine Color of a Chessboard Square\n",
    "Easy\n",
    "748\n",
    "15\n",
    "Companies\n",
    "You are given coordinates, a string that represents the coordinates of a square of the chessboard. Below is a chessboard for your reference.\n",
    "\n",
    "\n",
    "\n",
    "Return true if the square is white, and false if the square is black.\n",
    "\n",
    "The coordinate will always represent a valid chessboard square. The coordinate will always have the letter first, and the number second."
   ]
  },
  {
   "cell_type": "code",
   "execution_count": null,
   "id": "4bead500",
   "metadata": {},
   "outputs": [],
   "source": [
    "class Solution:\n",
    "    def squareIsWhite(self, coordinates: str) -> bool:\n",
    "        if coordinates[0] in ['a', 'c', 'e', 'g']:\n",
    "            if coordinates[1] in ['1', '3', '5', '7']:\n",
    "                return (False)\n",
    "            else:\n",
    "                return (True)\n",
    "        else:\n",
    "            if coordinates[1] in ['1', '3', '5', '7']:\n",
    "                return (True)\n",
    "            else:\n",
    "                return (False )"
   ]
  },
  {
   "cell_type": "markdown",
   "id": "c94e0594",
   "metadata": {},
   "source": [
    "338. Counting Bits\n",
    "\n",
    "Given an integer n, return an array ans of length n + 1 such that for each i (0 <= i <= n), \n",
    "ans[i] is the number of 1's in the binary representation of i."
   ]
  },
  {
   "cell_type": "code",
   "execution_count": null,
   "id": "7e4bd013",
   "metadata": {},
   "outputs": [],
   "source": [
    "class Solution:\n",
    "    def countBits(self, n: int) -> List[int]:\n",
    "        x = []\n",
    "\n",
    "        for i in range(0, n+1):\n",
    "            y = 0\n",
    "            for j in bin(i)[2:]:\n",
    "                y += int(j)\n",
    "            x.append(y)\n",
    "            \n",
    "        return x"
   ]
  },
  {
   "cell_type": "markdown",
   "id": "6a9cf29a",
   "metadata": {},
   "source": [
    "1374. Generate a String With Characters That Have Odd Counts\n",
    "\n",
    "Given an integer n, return a string with n characters such that each character in such string occurs an odd number of times.\n",
    "\n",
    "The returned string must contain only lowercase English letters. If there are multiples valid strings, return any of them.  "
   ]
  },
  {
   "cell_type": "code",
   "execution_count": null,
   "id": "68d3f1d3",
   "metadata": {},
   "outputs": [],
   "source": [
    "class Solution:\n",
    "    def generateTheString(self, n: int) -> str:\n",
    "        return \"a\" * n if n % 2 else \"a\" * (n - 1) + \"b\""
   ]
  },
  {
   "cell_type": "markdown",
   "id": "7dd05bf5",
   "metadata": {},
   "source": [
    "46. Permutations\n",
    "\n",
    "Given an array nums of distinct integers, return all the possible permutations. You can return the answer in any order.\n"
   ]
  },
  {
   "cell_type": "code",
   "execution_count": null,
   "id": "f70caa8c",
   "metadata": {},
   "outputs": [],
   "source": [
    "class Solution:\n",
    "    def permute(self, nums: List[int]) -> List[List[int]]:\n",
    "        def addperm(x,l):\n",
    "            return [ l[0:i] + [x] + l[i:]  for i in range(len(l)+1) ]\n",
    "\n",
    "        def perm(l):\n",
    "            if len(l) == 0:\n",
    "                return [[]]\n",
    "            return [x for y in perm(l[1:]) for x in addperm(l[0],y) ]\n",
    "\n",
    "        return perm(nums)"
   ]
  },
  {
   "cell_type": "markdown",
   "id": "48cbef93",
   "metadata": {},
   "source": [
    "1704. Determine if String Halves Are Alike\n",
    "\n",
    "You are given a string s of even length. Split this string into two halves of equal lengths, \n",
    "and let a be the first half and b be the second half.\n",
    "\n",
    "Two strings are alike if they have the same number of vowels ('a', 'e', 'i', 'o', 'u', 'A', 'E', 'I', 'O', 'U'). \n",
    "Notice that s contains uppercase and lowercase letters.\n",
    "\n",
    "Return true if a and b are alike. Otherwise, return false."
   ]
  },
  {
   "cell_type": "code",
   "execution_count": 16,
   "id": "63100a99",
   "metadata": {},
   "outputs": [
    {
     "name": "stdout",
     "output_type": "stream",
     "text": [
      "True\n"
     ]
    }
   ],
   "source": [
    "s = \"book\"\n",
    "x = 0\n",
    "y = 0\n",
    "for i, j in zip(list(s[len(s)//2:]), list(s[:len(s)//2])): \n",
    "    if i in ['a', 'e', 'i', 'o', 'u', 'A', 'E', 'I', 'O', 'U']:\n",
    "        x += 1\n",
    "    if j in ['a', 'e', 'i', 'o', 'u', 'A', 'E', 'I', 'O', 'U']:\n",
    "        y += 1\n",
    "print(x == y)"
   ]
  }
 ],
 "metadata": {
  "kernelspec": {
   "display_name": "Python 3 (ipykernel)",
   "language": "python",
   "name": "python3"
  },
  "language_info": {
   "codemirror_mode": {
    "name": "ipython",
    "version": 3
   },
   "file_extension": ".py",
   "mimetype": "text/x-python",
   "name": "python",
   "nbconvert_exporter": "python",
   "pygments_lexer": "ipython3",
   "version": "3.9.10"
  }
 },
 "nbformat": 4,
 "nbformat_minor": 5
}
