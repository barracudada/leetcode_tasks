{
 "cells": [
  {
   "cell_type": "markdown",
   "id": "4142d945",
   "metadata": {},
   "source": [
    "2011. Final Value of Variable After Performing Operations\n",
    "\n",
    "There is a programming language with only four operations and one variable X:\n",
    "++X and X++ increments the value of the variable X by 1.\n",
    "--X and X-- decrements the value of the variable X by 1.\n",
    "Initially, the value of X is 0.\n",
    "\n",
    "Given an array of strings operations containing a list of operations, return the final value of X after performing all the operations."
   ]
  },
  {
   "cell_type": "code",
   "execution_count": 3,
   "id": "78b97f11",
   "metadata": {},
   "outputs": [],
   "source": [
    "class Solution:\n",
    "    def finalValueAfterOperations(self, operations: List[str]) -> int:\n",
    "        x = 0\n",
    "        for i in operations:\n",
    "            for l in i:\n",
    "                if l == 'X':\n",
    "                    pass\n",
    "                elif l == '-':\n",
    "                    x = x -0.5\n",
    "                elif l == '+':\n",
    "                    x = x + 0.5\n",
    "        return(int(x))\n",
    "        "
   ]
  },
  {
   "cell_type": "markdown",
   "id": "2a19f817",
   "metadata": {},
   "source": [
    "771. Jewels and Stones\n",
    "\n",
    "You're given strings jewels representing the types of stones that are jewels, and stones representing the stones you have. Each character in stones is a type of stone you have. You want to know how many of the stones you have are also jewels.\n",
    "\n",
    "Letters are case sensitive, so \"a\" is considered a different type of stone from \"A\"."
   ]
  },
  {
   "cell_type": "code",
   "execution_count": null,
   "id": "81643df2",
   "metadata": {},
   "outputs": [],
   "source": [
    "class Solution:\n",
    "    def numJewelsInStones(self, jewels: str, stones: str) -> int:\n",
    "        u_jewels = []\n",
    "        for i in jewels:\n",
    "            u_jewels.append(i)\n",
    "        x = 0\n",
    "        for i in stones:\n",
    "            if i in u_jewels:\n",
    "                x += 1\n",
    "        return(x)"
   ]
  },
  {
   "cell_type": "markdown",
   "id": "253fe031",
   "metadata": {},
   "source": [
    "2769. Find the Maximum Achievable Number\n",
    "\n",
    "You are given two integers, num and t.\n",
    "\n",
    "An integer x is called achievable if it can become equal to num after applying the following operation no more than t times:\n",
    "\n",
    "Increase or decrease x by 1, and simultaneously increase or decrease num by 1.\n",
    "Return the maximum possible achievable number. It can be proven that there exists at least one achievable number."
   ]
  },
  {
   "cell_type": "code",
   "execution_count": null,
   "id": "25f922e2",
   "metadata": {},
   "outputs": [],
   "source": [
    "class Solution:\n",
    "    def theMaximumAchievableX(self, num: int, t: int) -> int:\n",
    "        return(num+t*2)"
   ]
  },
  {
   "cell_type": "markdown",
   "id": "3eda92e5",
   "metadata": {},
   "source": [
    "1512. Number of Good Pairs\n",
    "\n",
    "Given an array of integers nums, return the number of good pairs.\n",
    "\n",
    "A pair (i, j) is called good if nums[i] == nums[j] and i < j."
   ]
  },
  {
   "cell_type": "code",
   "execution_count": null,
   "id": "097908e7",
   "metadata": {},
   "outputs": [],
   "source": [
    "class Solution:\n",
    "    def numIdenticalPairs(self, nums: List[int]) -> int:nums_c = nums.copy()\n",
    "        nums_c.append(' ')\n",
    "        x = 0\n",
    "\n",
    "        for i, v in enumerate(nums):\n",
    "            for j in nums_c[i+1:]:\n",
    "                if v==j:\n",
    "                    x+=1\n",
    "        return(x)"
   ]
  },
  {
   "cell_type": "markdown",
   "id": "c831e5a1",
   "metadata": {},
   "source": [
    "1603. Design Parking System\n",
    "\n",
    "Design a parking system for a parking lot. The parking lot has three kinds of parking spaces: big, medium, and small, with a fixed number of slots for each size.\n",
    "\n",
    "Implement the ParkingSystem class:\n",
    "\n",
    "ParkingSystem(int big, int medium, int small) Initializes object of the ParkingSystem class. The number of slots for each parking space are given as part of the constructor.\n",
    "bool addCar(int carType) Checks whether there is a parking space of carType for the car that wants to get into the parking lot. carType can be of three kinds: big, medium, or small, which are represented by 1, 2, and 3 respectively. A car can only park in a parking space of its carType. If there is no space available, return false, else park the car in that size space and return true.\n",
    " "
   ]
  },
  {
   "cell_type": "code",
   "execution_count": null,
   "id": "a16ac7ea",
   "metadata": {},
   "outputs": [],
   "source": [
    "class ParkingSystem:\n",
    "\n",
    "    def __init__(self, big: int, medium: int, small: int):\n",
    "        self.parking_lots = [big, medium, small]\n",
    "\n",
    "    def addCar(self, carType: int) -> bool:\n",
    "        self.parking_lots[carType - 1] -= 1\n",
    "        return 0 <= self.parking_lots[carType - 1]\n"
   ]
  },
  {
   "cell_type": "code",
   "execution_count": null,
   "id": "9f76e627",
   "metadata": {},
   "outputs": [],
   "source": []
  },
  {
   "cell_type": "code",
   "execution_count": null,
   "id": "af8d1dfd",
   "metadata": {},
   "outputs": [],
   "source": []
  },
  {
   "cell_type": "code",
   "execution_count": null,
   "id": "cddf20ef",
   "metadata": {},
   "outputs": [],
   "source": []
  }
 ],
 "metadata": {
  "kernelspec": {
   "display_name": "Python 3",
   "language": "python",
   "name": "python3"
  },
  "language_info": {
   "codemirror_mode": {
    "name": "ipython",
    "version": 3
   },
   "file_extension": ".py",
   "mimetype": "text/x-python",
   "name": "python",
   "nbconvert_exporter": "python",
   "pygments_lexer": "ipython3",
   "version": "3.8.8"
  }
 },
 "nbformat": 4,
 "nbformat_minor": 5
}
