{
 "cells": [
  {
   "cell_type": "markdown",
   "id": "ba996f85",
   "metadata": {},
   "source": [
    "2710. Remove Trailing Zeros From a String\n",
    "\n",
    "Given a positive integer num represented as a string, return the integer num without trailing zeros as a string."
   ]
  },
  {
   "cell_type": "code",
   "execution_count": null,
   "id": "c834633f",
   "metadata": {},
   "outputs": [],
   "source": [
    "class Solution:\n",
    "    def removeTrailingZeros(self, num: str) -> str:\n",
    "        return num.rstrip('0')"
   ]
  },
  {
   "cell_type": "markdown",
   "id": "f0b01329",
   "metadata": {},
   "source": [
    "1347. Minimum Number of Steps to Make Two Strings Anagram\n",
    "\n",
    "You are given two strings of the same length s and t. \n",
    "In one step you can choose any character of t and replace it with another character.\n",
    "\n",
    "Return the minimum number of steps to make t an anagram of s.\n",
    "\n",
    "An Anagram of a string is a string that contains the same characters with a different (or the same) ordering."
   ]
  },
  {
   "cell_type": "code",
   "execution_count": null,
   "id": "f5e444bc",
   "metadata": {},
   "outputs": [],
   "source": [
    "class Solution:\n",
    "    def minSteps(self, s: str, t: str) -> int:\n",
    "        for ch in s:\n",
    "            t = t.replace(ch, '', 1)\n",
    "                \n",
    "        return len(t)\n",
    "    \n",
    "# class Solution:\n",
    "#     def minSteps(self, s: str, t: str) -> int:\n",
    "#         return (Counter(s) - Counter(t)).total()"
   ]
  },
  {
   "cell_type": "markdown",
   "id": "a2be16c1",
   "metadata": {},
   "source": [
    "728. Self Dividing Numbers\n",
    "\n",
    "A self-dividing number is a number that is divisible by every digit it contains.\n",
    "\n",
    "For example, 128 is a self-dividing number because 128 % 1 == 0, 128 % 2 == 0, and 128 % 8 == 0.\n",
    "A self-dividing number is not allowed to contain the digit zero.\n",
    "\n",
    "Given two integers left and right, return a list of all the self-dividing numbers in the range [left, right]."
   ]
  },
  {
   "cell_type": "code",
   "execution_count": 178,
   "id": "5a16eaf0",
   "metadata": {},
   "outputs": [],
   "source": [
    "class Solution:\n",
    "    def selfDividingNumbers(self, left: int, right: int) -> List[int]:\n",
    "        def checker(k):\n",
    "            if '0' in str(k):\n",
    "                return(False)\n",
    "            for i in str(k):\n",
    "                if k % int(i) != 0:\n",
    "                    return(False)\n",
    "            return(True)\n",
    "\n",
    "        x = []\n",
    "\n",
    "        for i in range(left, right+1):\n",
    "            if checker(i):\n",
    "                x.append(i)\n",
    "        return(x)\n",
    "    \n",
    "# class Solution:\n",
    "# \tdef selfDividingNumbers(self, left: int, right: int) -> List[int]:\n",
    "# \t\tresult = []\n",
    "\n",
    "# \t\tfor i in range(left, right+ 1):\n",
    "# \t\t\tif \"0\" in str(i): continue\n",
    "# \t\t\tval = i\n",
    "# \t\t\twhile val > 0:\n",
    "# \t\t\t\tn = val % 10\n",
    "# \t\t\t\tif i % n != 0:\n",
    "# \t\t\t\t\tval = -1\n",
    "# \t\t\t\tval = val // 10\n",
    "\n",
    "# \t\t\tif val != -1: result.append(i)\n",
    "\n",
    "# \t\treturn result"
   ]
  },
  {
   "cell_type": "markdown",
   "id": "12e1e60b",
   "metadata": {},
   "source": [
    "1641. Count Sorted Vowel Strings\n",
    "\n",
    "Given an integer n, return the number of strings of length n that consist only of vowels (a, e, i, o, u) \n",
    "and are lexicographically sorted.\n",
    "\n",
    "A string s is lexicographically sorted if for all valid i, s[i] is the same as or comes before s[i+1] in the alphabet."
   ]
  },
  {
   "cell_type": "code",
   "execution_count": null,
   "id": "604ad05d",
   "metadata": {},
   "outputs": [],
   "source": [
    "class Solution:\n",
    "    def countVowelStrings(self, n: int) -> int:        \n",
    "        dp = [1] * 5\n",
    "        \n",
    "        for i in range(2, n+1):\n",
    "            for j in range(4, -1, -1):\n",
    "                dp[j] += sum(dp[:j])            \n",
    "        \n",
    "        return sum(dp)"
   ]
  },
  {
   "cell_type": "markdown",
   "id": "8a966342",
   "metadata": {},
   "source": [
    "1356. Sort Integers by The Number of 1 Bits\n",
    "\n",
    "You are given an integer array arr. \n",
    "Sort the integers in the array in ascending order \n",
    "by the number of 1's in their binary representation \n",
    "and in case of two or more integers have the same number of 1's \n",
    "you have to sort them in ascending order.\n",
    "\n",
    "Return the array after sorting it."
   ]
  },
  {
   "cell_type": "code",
   "execution_count": null,
   "id": "0d8e0b2f",
   "metadata": {},
   "outputs": [],
   "source": [
    "class Solution:\n",
    "    def sortByBits(self, arr: List[int]) -> List[int]:\n",
    "        # Define a custom comparison key function for sorting\n",
    "        def custom_sort_key(num):\n",
    "            # Calculate the number of set bits (1s) in the binary representation of num\n",
    "            bit_count = bin(num).count('1')\n",
    "            return (bit_count, num)\n",
    "\n",
    "        # Sort the input list using the custom comparison key function\n",
    "        arr.sort(key=custom_sort_key)\n",
    "\n",
    "        # Return the sorted list\n",
    "        return arr"
   ]
  }
 ],
 "metadata": {
  "kernelspec": {
   "display_name": "Python 3",
   "language": "python",
   "name": "python3"
  },
  "language_info": {
   "codemirror_mode": {
    "name": "ipython",
    "version": 3
   },
   "file_extension": ".py",
   "mimetype": "text/x-python",
   "name": "python",
   "nbconvert_exporter": "python",
   "pygments_lexer": "ipython3",
   "version": "3.8.8"
  }
 },
 "nbformat": 4,
 "nbformat_minor": 5
}
