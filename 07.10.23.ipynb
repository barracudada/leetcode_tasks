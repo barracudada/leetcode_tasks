{
 "cells": [
  {
   "cell_type": "markdown",
   "id": "c404bf6a",
   "metadata": {},
   "source": [
    "1528. Shuffle String\n",
    "\n",
    "You are given a string s and an integer array indices of the same length. The string s will be shuffled such that the character at the ith position moves to indices[i] in the shuffled string.\n",
    "\n",
    "Return the shuffled string."
   ]
  },
  {
   "cell_type": "code",
   "execution_count": 8,
   "id": "76694a90",
   "metadata": {},
   "outputs": [
    {
     "data": {
      "text/plain": [
       "['l', 'e', 'e', 't', 'c', 'o', 'd', 'e']"
      ]
     },
     "execution_count": 8,
     "metadata": {},
     "output_type": "execute_result"
    }
   ],
   "source": [
    "class Solution:\n",
    "    def restoreString(self, s: str, indices: List[int]) -> str:\n",
    "\n",
    "        s = [i for i in s]\n",
    "\n",
    "        x = [0]*len(s)\n",
    "\n",
    "        for i,j in zip(s, indices):\n",
    "            x[j] = i\n",
    "            \n",
    "        return(''.join(i for i in x))"
   ]
  },
  {
   "cell_type": "markdown",
   "id": "d97cb5cb",
   "metadata": {},
   "source": [
    "1773. Count Items Matching a Rule\n",
    "\n",
    "You are given an array items, where each items[i] = [typei, colori, namei] describes the type, color, and name of the ith item. You are also given a rule represented by two strings, ruleKey and ruleValue.\n",
    "\n",
    "The ith item is said to match the rule if one of the following is true:\n",
    "\n",
    "ruleKey == \"type\" and ruleValue == typei.\n",
    "ruleKey == \"color\" and ruleValue == colori.\n",
    "ruleKey == \"name\" and ruleValue == namei.\n",
    "Return the number of items that match the given rule."
   ]
  },
  {
   "cell_type": "code",
   "execution_count": 12,
   "id": "3935a779",
   "metadata": {},
   "outputs": [
    {
     "data": {
      "text/plain": [
       "1"
      ]
     },
     "execution_count": 12,
     "metadata": {},
     "output_type": "execute_result"
    }
   ],
   "source": [
    "class Solution:\n",
    "    def countMatches(self, items: List[List[str]], ruleKey: str, ruleValue: str) -> int:\n",
    "        res=0\n",
    "        rule={\"type\":0,\"color\":1,\"name\":2}\n",
    "        for i in items:\n",
    "            if i[rule[ruleKey]]==ruleValue:\n",
    "                res+=1\n",
    "        return(res)"
   ]
  },
  {
   "cell_type": "markdown",
   "id": "c78e1a8f",
   "metadata": {},
   "source": [
    "2194. Cells in a Range on an Excel Sheet\n",
    "\n",
    "A cell (r, c) of an excel sheet is represented as a string \"<col><row>\" where:\n",
    "\n",
    "<col> denotes the column number c of the cell. It is represented by alphabetical letters.\n",
    "For example, the 1st column is denoted by 'A', the 2nd by 'B', the 3rd by 'C', and so on.\n",
    "<row> is the row number r of the cell. The rth row is represented by the integer r.\n",
    "You are given a string s in the format \"<col1><row1>:<col2><row2>\", where <col1> represents the column c1, <row1> represents the row r1, <col2> represents the column c2, and <row2> represents the row r2, such that r1 <= r2 and c1 <= c2.\n",
    "\n",
    "Return the list of cells (x, y) such that r1 <= x <= r2 and c1 <= y <= c2. The cells should be represented as strings in the format mentioned above and be sorted in non-decreasing order first by columns and then by rows."
   ]
  },
  {
   "cell_type": "code",
   "execution_count": 25,
   "id": "7a56e4b7",
   "metadata": {},
   "outputs": [
    {
     "data": {
      "text/plain": [
       "['A1', 'B1', 'C1', 'D1', 'E1', 'F1']"
      ]
     },
     "execution_count": 25,
     "metadata": {},
     "output_type": "execute_result"
    }
   ],
   "source": [
    "class Solution:\n",
    "    def cellsInRange(self, s: str) -> List[str]:\n",
    "        alphabet = list('ABCDEFGHIJKLMNOPQRSTUVWXYZ')\n",
    "\n",
    "        start_letter , end_letter = s[0], s[3]\n",
    "        start_n, end_n = s[1], s[4]\n",
    "\n",
    "        alphabet_slice = alphabet[alphabet.index(start_letter):alphabet.index(end_letter) + 1]\n",
    "\n",
    "        res = []\n",
    "\n",
    "        for el in alphabet_slice:\n",
    "            res += [el + str(num) for num in range(int(start_n), int(end_n)+1)]\n",
    "            \n",
    "        return(res)"
   ]
  },
  {
   "cell_type": "markdown",
   "id": "cd4e7714",
   "metadata": {},
   "source": [
    "1816. Truncate Sentence\n",
    "\n",
    "A sentence is a list of words that are separated by a single space with no leading or trailing spaces. Each of the words consists of only uppercase and lowercase English letters (no punctuation).\n",
    "\n",
    "For example, \"Hello World\", \"HELLO\", and \"hello world hello world\" are all sentences.\n",
    "You are given a sentence s and an integer k. You want to truncate s such that it contains only the first k words. Return s after truncating it."
   ]
  },
  {
   "cell_type": "code",
   "execution_count": 33,
   "id": "5e70d1f4",
   "metadata": {},
   "outputs": [
    {
     "data": {
      "text/plain": [
       "'Hello how are you'"
      ]
     },
     "execution_count": 33,
     "metadata": {},
     "output_type": "execute_result"
    }
   ],
   "source": [
    "class Solution:\n",
    "    def truncateSentence(self, s: str, k: int) -> str:\n",
    "        s = s.split(' ')[:k]\n",
    "        x = ''\n",
    "        while len(s) != 1:\n",
    "            x += s.pop(0)\n",
    "            x += ' '\n",
    "        return(x + s[0])"
   ]
  },
  {
   "cell_type": "markdown",
   "id": "8b397851",
   "metadata": {},
   "source": [
    "2325. Decode the Message\n",
    "\n",
    "You are given the strings key and message, which represent a cipher key and a secret message, respectively. The steps to decode message are as follows:\n",
    "\n",
    "Use the first appearance of all 26 lowercase English letters in key as the order of the substitution table.\n",
    "Align the substitution table with the regular English alphabet.\n",
    "Each letter in message is then substituted using the table.\n",
    "Spaces ' ' are transformed to themselves.\n",
    "For example, given key = \"happy boy\" (actual key would have at least one instance of each letter in the alphabet), we have the partial substitution table of ('h' -> 'a', 'a' -> 'b', 'p' -> 'c', 'y' -> 'd', 'b' -> 'e', 'o' -> 'f').\n",
    "Return the decoded message."
   ]
  },
  {
   "cell_type": "code",
   "execution_count": 45,
   "id": "4ae6586a",
   "metadata": {},
   "outputs": [
    {
     "data": {
      "text/plain": [
       "'this is a secret'"
      ]
     },
     "execution_count": 45,
     "metadata": {},
     "output_type": "execute_result"
    }
   ],
   "source": [
    "alphabet = list('ABCDEFGHIJKLMNOPQRSTUVWXYZ'.lower())\n",
    "\n",
    "key = \"the quick brown fox jumps over the lazy dog\"\n",
    "message = \"vkbs bs t suepuv\"\n",
    "\n",
    "key = key.replace(' ', '')\n",
    "\n",
    "key_n = ''\n",
    "for i in key:\n",
    "    if i not in key_n:\n",
    "        key_n += i\n",
    "key_n = list(key_n)\n",
    "\n",
    "\n",
    "x = ''\n",
    "for i in message:\n",
    "    if i == ' ':\n",
    "        x += i\n",
    "    else:\n",
    "        x += (alphabet[key_n.index(i)])\n",
    "    \n",
    "x"
   ]
  },
  {
   "cell_type": "code",
   "execution_count": null,
   "id": "b1baeb46",
   "metadata": {},
   "outputs": [],
   "source": [
    "        mapping = {' ': ' '}\n",
    "        i = 0\n",
    "        res = ''\n",
    "        letters = 'abcdefghijklmnopqrstuvwxyz'\n",
    "        \n",
    "        for char in key:\n",
    "            if char not in mapping:\n",
    "                mapping[char] = letters[i]\n",
    "                i += 1\n",
    "        \n",
    "        for char in message:\n",
    "            res += mapping[char]\n",
    "                \n",
    "        return res"
   ]
  },
  {
   "cell_type": "code",
   "execution_count": 42,
   "id": "003ffbc8",
   "metadata": {},
   "outputs": [
    {
     "data": {
      "text/plain": [
       "['t',\n",
       " 'h',\n",
       " 'e',\n",
       " 'q',\n",
       " 'u',\n",
       " 'i',\n",
       " 'c',\n",
       " 'k',\n",
       " 'b',\n",
       " 'r',\n",
       " 'o',\n",
       " 'w',\n",
       " 'n',\n",
       " 'f',\n",
       " 'x',\n",
       " 'j',\n",
       " 'm',\n",
       " 'p',\n",
       " 's',\n",
       " 'v',\n",
       " 'l',\n",
       " 'a',\n",
       " 'z',\n",
       " 'y',\n",
       " 'd',\n",
       " 'g']"
      ]
     },
     "execution_count": 42,
     "metadata": {},
     "output_type": "execute_result"
    }
   ],
   "source": [
    "key_n"
   ]
  },
  {
   "cell_type": "code",
   "execution_count": null,
   "id": "29aac5ab",
   "metadata": {},
   "outputs": [],
   "source": [
    "\n",
    "\n",
    " \n",
    "\n",
    "Example 1:\n",
    "\n",
    "\n",
    "Input: key = \"the quick brown fox jumps over the lazy dog\", message = \"vkbs bs t suepuv\"\n",
    "Output: \"this is a secret\"\n",
    "Explanation: The diagram above shows the substitution table.\n",
    "It is obtained by taking the first appearance of each letter in \"the quick brown fox jumps over the lazy dog\".\n",
    "Example 2:\n",
    "\n",
    "\n",
    "Input: key = \"eljuxhpwnyrdgtqkviszcfmabo\", message = \"zwx hnfx lqantp mnoeius ycgk vcnjrdb\"\n",
    "Output: \"the five boxing wizards jump quickly\"\n",
    "Explanation: The diagram above shows the substitution table.\n",
    "It is obtained by taking the first appearance of each letter in \"eljuxhpwnyrdgtqkviszcfmabo\"."
   ]
  },
  {
   "cell_type": "code",
   "execution_count": null,
   "id": "09abfb03",
   "metadata": {},
   "outputs": [],
   "source": []
  },
  {
   "cell_type": "code",
   "execution_count": null,
   "id": "810eaae0",
   "metadata": {},
   "outputs": [],
   "source": []
  },
  {
   "cell_type": "code",
   "execution_count": null,
   "id": "bc1ac326",
   "metadata": {},
   "outputs": [],
   "source": []
  }
 ],
 "metadata": {
  "kernelspec": {
   "display_name": "Python 3 (ipykernel)",
   "language": "python",
   "name": "python3"
  },
  "language_info": {
   "codemirror_mode": {
    "name": "ipython",
    "version": 3
   },
   "file_extension": ".py",
   "mimetype": "text/x-python",
   "name": "python",
   "nbconvert_exporter": "python",
   "pygments_lexer": "ipython3",
   "version": "3.9.10"
  }
 },
 "nbformat": 4,
 "nbformat_minor": 5
}
