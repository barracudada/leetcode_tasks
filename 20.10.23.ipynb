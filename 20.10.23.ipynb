{
 "cells": [
  {
   "cell_type": "markdown",
   "id": "0e20b710",
   "metadata": {},
   "source": [
    "2696. Minimum String Length After Removing Substrings\n",
    "\n",
    "You are given a string s consisting only of uppercase English letters.\n",
    "\n",
    "You can apply some operations to this string where, \n",
    "in one operation, you can remove any occurrence of one of the substrings \"AB\" or \"CD\" from s.\n",
    "\n",
    "Return the minimum possible length of the resulting string that you can obtain.\n",
    "\n",
    "Note that the string concatenates after removing the substring and could produce new \"AB\" or \"CD\" substrings.\n"
   ]
  },
  {
   "cell_type": "code",
   "execution_count": null,
   "id": "dec5864a",
   "metadata": {},
   "outputs": [],
   "source": [
    "class Solution:\n",
    "    def minLength(self, s: str) -> int:\n",
    "        while \"AB\" in s or \"CD\" in s:\n",
    "            s = s.replace('AB', '')\n",
    "            s = s.replace('CD', '')\n",
    "            \n",
    "        return(len(s))"
   ]
  },
  {
   "cell_type": "markdown",
   "id": "dc80fee4",
   "metadata": {},
   "source": [
    "2697. Lexicographically Smallest Palindrome\n",
    "\n",
    "You are given a string s consisting of lowercase English letters, \n",
    "and you are allowed to perform operations on it. \n",
    "In one operation, you can replace a character in s with another lowercase English letter.\n",
    "\n",
    "Your task is to make s a palindrome with the minimum number of operations possible. \n",
    "If there are multiple palindromes that can be made using the minimum number of operations, \n",
    "make the lexicographically smallest one.\n",
    "\n",
    "A string a is lexicographically smaller than a string b (of the same length) \n",
    "if in the first position where a and b differ, string a has a letter that appears earlier \n",
    "in the alphabet than the corresponding letter in b.\n",
    "\n",
    "Return the resulting palindrome string."
   ]
  },
  {
   "cell_type": "code",
   "execution_count": null,
   "id": "2cd257a5",
   "metadata": {},
   "outputs": [],
   "source": [
    "class Solution:\n",
    "    def makeSmallestPalindrome(self, s: str) -> str:\n",
    "        before = 0\n",
    "        after = len(s)-1\n",
    "        l = [i for i in s]\n",
    "        while before <= len(s)/2:\n",
    "            l[before] = min(l[before], l[after])\n",
    "            l[after] = l[before]\n",
    "            before+=1\n",
    "            after-=1\n",
    "        return \"\".join(l)"
   ]
  },
  {
   "cell_type": "markdown",
   "id": "71539cbe",
   "metadata": {},
   "source": [
    "2698. Find the Punishment Number of an Integer\n",
    "\n",
    "Given a positive integer n, return the punishment number of n.\n",
    "\n",
    "The punishment number of n is defined as the sum of the squares of all integers i such that:\n",
    "\n",
    "1 <= i <= n\n",
    "The decimal representation of i * i can be partitioned into contiguous substrings \n",
    "such that the sum of the integer values of these substrings equals i."
   ]
  },
  {
   "cell_type": "code",
   "execution_count": null,
   "id": "a441fc1b",
   "metadata": {},
   "outputs": [],
   "source": [
    "class Solution:\n",
    "    def punishmentNumber(self, n: int) -> int:\n",
    "        nums = [1, 9, 10, 36, 45, 55, \n",
    "        82, 91, 99, 100, 235, 297, \n",
    "        369, 370, 379, 414, 657, \n",
    "        675, 703, 756, 792, 909, \n",
    "        918, 945, 964, 990, 991, \n",
    "        999, 1000]\n",
    "        ans = 0\n",
    "        for num in nums:\n",
    "            if n >= num:\n",
    "                ans += num**2\n",
    "            else:\n",
    "                break\n",
    "        return ans"
   ]
  },
  {
   "cell_type": "markdown",
   "id": "ae00f482",
   "metadata": {},
   "source": [
    "2706. Buy Two Chocolates\n",
    "Easy\n",
    "275\n",
    "12\n",
    "Companies\n",
    "You are given an integer array prices representing the prices of various chocolates in a store. \n",
    "You are also given a single integer money, which represents your initial amount of money.\n",
    "\n",
    "You must buy exactly two chocolates in such a way that you still have some non-negative leftover money. \n",
    "You would like to minimize the sum of the prices of the two chocolates you buy.\n",
    "\n",
    "Return the amount of money you will have leftover after buying the two chocolates. \n",
    "If there is no way for you to buy two chocolates without ending up in debt, return money. \n",
    "Note that the leftover must be non-negative."
   ]
  },
  {
   "cell_type": "code",
   "execution_count": null,
   "id": "fc11ba1e",
   "metadata": {},
   "outputs": [],
   "source": [
    "class Solution:\n",
    "    def buyChoco(self, prices: List[int], money: int) -> int:\n",
    "        first_min = second_min = maxsize\n",
    "\n",
    "        for p in prices:\n",
    "            if p < first_min:\n",
    "                second_min, first_min = first_min, p\n",
    "            elif p < second_min:\n",
    "                second_min = p\n",
    "\n",
    "        min_price = first_min + second_min\n",
    "        return money - min_price if min_price <= money else money\n",
    "\n",
    "\n",
    "\n",
    "# class Solution:\n",
    "#     def buyChoco(self, prices: List[int], money: int) -> int:\n",
    "#         ans=money-sum(sorted(prices)[:2])\n",
    "#         if ans>=0:\n",
    "#             return ans\n",
    "\n",
    "#         return money   \n",
    "\n",
    "# class Solution:\n",
    "#     def buyChoco(self, prices: List[int], money: int) -> int:\n",
    "#         heapify(prices)\n",
    "        \n",
    "#         ans = money - heappop(prices) - heappop(prices)\n",
    "        \n",
    "#         return ans if ans >= 0 else money"
   ]
  },
  {
   "cell_type": "code",
   "execution_count": null,
   "id": "49c6421f",
   "metadata": {},
   "outputs": [],
   "source": [
    "2707. Extra Characters in a String\n",
    "\n",
    "You are given a 0-indexed string s and a dictionary of words dictionary. \n",
    "You have to break s into one or more non-overlapping substrings such that each substring is present in dictionary. \n",
    "There may be some extra characters in s which are not present in any of the substrings.\n",
    "\n",
    "Return the minimum number of extra characters left over if you break up s optimally.\n",
    "\n",
    " \n",
    "\n",
    "Example 1:\n",
    "\n",
    "Input: s = \"leetscode\", dictionary = [\"leet\",\"code\",\"leetcode\"]\n",
    "Output: 1\n",
    "Explanation: We can break s in two substrings: \"leet\" from index 0 to 3 and \"code\" from index 5 to 8. \n",
    "        There is only 1 unused character (at index 4), so we return 1.\n",
    "\n",
    "Example 2:\n",
    "\n",
    "Input: s = \"sayhelloworld\", dictionary = [\"hello\",\"world\"]\n",
    "Output: 3\n",
    "Explanation: We can break s in two substrings: \"hello\" from index 3 to 7 and \"world\" from index 8 to 12. \n",
    "The characters at indices 0, 1, 2 are not used in any substring and thus are considered as extra characters. \n",
    "Hence, we return 3."
   ]
  },
  {
   "cell_type": "code",
   "execution_count": 37,
   "id": "719f3168",
   "metadata": {},
   "outputs": [
    {
     "ename": "TypeError",
     "evalue": "'builtin_function_or_method' object is not iterable",
     "output_type": "error",
     "traceback": [
      "\u001b[0;31m---------------------------------------------------------------------------\u001b[0m",
      "\u001b[0;31mTypeError\u001b[0m                                 Traceback (most recent call last)",
      "Input \u001b[0;32mIn [37]\u001b[0m, in \u001b[0;36m<cell line: 6>\u001b[0;34m()\u001b[0m\n\u001b[1;32m      6\u001b[0m \u001b[38;5;28;01mfor\u001b[39;00m i \u001b[38;5;129;01min\u001b[39;00m dictionary[\u001b[38;5;241m1\u001b[39m::]:\n\u001b[1;32m      7\u001b[0m     x \u001b[38;5;241m=\u001b[39m []\n\u001b[0;32m----> 8\u001b[0m     \u001b[38;5;28;01mfor\u001b[39;00m j \u001b[38;5;129;01min\u001b[39;00m s:\n\u001b[1;32m      9\u001b[0m         x\u001b[38;5;241m.\u001b[39mappend(j\u001b[38;5;241m.\u001b[39msplit(i))\n\u001b[1;32m     10\u001b[0m     s \u001b[38;5;241m=\u001b[39m x\u001b[38;5;241m.\u001b[39mcopy\n",
      "\u001b[0;31mTypeError\u001b[0m: 'builtin_function_or_method' object is not iterable"
     ]
    }
   ],
   "source": [
    "s = \"dwmodizxvvbosxxw\"\n",
    "dictionary = [\"ox\",\"lb\",\"diz\",\"gu\",\"v\",\"ksv\",\"o\",\"nuq\",\"r\",\"txhe\",\"e\",\"wmo\",\"cehy\",\"tskz\",\"ds\",\"kzbu\"]\n",
    "\n",
    "s = s.split(dictionary[0])\n",
    "\n",
    "for i in dictionary[1::]:\n",
    "    x = []\n",
    "    for j in s:\n",
    "        x.append(j.split(i))\n",
    "    s = x.copy\n",
    "s"
   ]
  },
  {
   "cell_type": "code",
   "execution_count": 42,
   "id": "2a9fa1be",
   "metadata": {},
   "outputs": [
    {
     "data": {
      "text/plain": [
       "4"
      ]
     },
     "execution_count": 42,
     "metadata": {},
     "output_type": "execute_result"
    }
   ],
   "source": [
    "len(max(dictionary, key=len))"
   ]
  },
  {
   "cell_type": "code",
   "execution_count": 41,
   "id": "a3ec3485",
   "metadata": {},
   "outputs": [
    {
     "data": {
      "text/plain": [
       "[0]"
      ]
     },
     "execution_count": 41,
     "metadata": {},
     "output_type": "execute_result"
    }
   ],
   "source": [
    "s = \"dwmodizxvvbosxxw\"\n",
    "n = len(s)\n",
    "\n",
    "n,dp = len(s),[0]\n",
    "\n",
    "dp"
   ]
  },
  {
   "cell_type": "code",
   "execution_count": 23,
   "id": "2e6fa670",
   "metadata": {},
   "outputs": [
    {
     "data": {
      "text/plain": [
       "'dwmodizxvvbosxxw'"
      ]
     },
     "execution_count": 23,
     "metadata": {},
     "output_type": "execute_result"
    }
   ],
   "source": [
    "s.replace(dictionary[0], ' ')"
   ]
  }
 ],
 "metadata": {
  "kernelspec": {
   "display_name": "Python 3 (ipykernel)",
   "language": "python",
   "name": "python3"
  },
  "language_info": {
   "codemirror_mode": {
    "name": "ipython",
    "version": 3
   },
   "file_extension": ".py",
   "mimetype": "text/x-python",
   "name": "python",
   "nbconvert_exporter": "python",
   "pygments_lexer": "ipython3",
   "version": "3.9.10"
  }
 },
 "nbformat": 4,
 "nbformat_minor": 5
}
