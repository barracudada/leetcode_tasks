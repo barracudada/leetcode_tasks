{
 "cells": [
  {
   "cell_type": "markdown",
   "id": "db560eca",
   "metadata": {},
   "source": [
    "2103. Rings and Rods\n",
    "\n",
    "There are n rings and each ring is either red, green, or blue. The rings are distributed across ten rods labeled from 0 to 9.\n",
    "\n",
    "You are given a string rings of length 2n that describes the n rings that are placed onto the rods. Every two characters in rings forms a color-position pair that is used to describe each ring where:\n",
    "\n",
    "The first character of the ith pair denotes the ith ring's color ('R', 'G', 'B').\n",
    "The second character of the ith pair denotes the rod that the ith ring is placed on ('0' to '9').\n",
    "For example, \"R3G2B1\" describes n == 3 rings: a red ring placed onto the rod labeled 3, a green ring placed onto the rod labeled 2, and a blue ring placed onto the rod labeled 1.\n",
    "\n",
    "Return the number of rods that have all three colors of rings on them."
   ]
  },
  {
   "cell_type": "code",
   "execution_count": 30,
   "id": "ff9b2397",
   "metadata": {},
   "outputs": [
    {
     "data": {
      "text/plain": [
       "1"
      ]
     },
     "execution_count": 30,
     "metadata": {},
     "output_type": "execute_result"
    }
   ],
   "source": [
    "class Solution:\n",
    "    def countPoints(self, rings: str) -> int:\n",
    "        d = {}\n",
    "\n",
    "        while len(rings) != 0:\n",
    "            if rings[0:2][1] in d:\n",
    "                d[rings[0:2][1]][rings[0:2][0]] += 1\n",
    "            else:\n",
    "                d[rings[0:2][1]] = {'R':0, 'G':0, 'B':0}\n",
    "                d[rings[0:2][1]][rings[0:2][0]] += 1\n",
    "            rings = rings[2:]\n",
    "            \n",
    "        x = 0\n",
    "        for i in list(d.values()):\n",
    "            if all(list(i.values())) == True:\n",
    "                x += 1\n",
    "        return(x)\n",
    "    \n",
    "# class Solution:\n",
    "#     def countPoints(self, r: str) -> int:\n",
    "#         ans = 0\n",
    "#         for i in range(10):\n",
    "#             i = str(i)\n",
    "#             if 'R'+i in r and 'G'+i in r and 'B'+i in r:\n",
    "#                 ans += 1\n",
    "#         return ans\n",
    "\n",
    "# class Solution:\n",
    "#     def countPoints(self, rings: str) -> int:\n",
    "#         r,g,b = [],[],[]\n",
    "#         for i in range(len(rings)):\n",
    "#             if rings[i] == \"R\": r.append(rings[i+1])\n",
    "#             if rings[i] == \"G\": g.append(rings[i+1])\n",
    "#             if rings[i] == \"B\": b.append(rings[i+1])\n",
    "#         return len((set(r).intersection(set(g))).intersection(set(b)))\n",
    "\n",
    "# class Solution:\n",
    "#     def countPoints(self, rings: str) -> int:\n",
    "#             dict_ = defaultdict(set)\n",
    "#             for i in range(0,len(rings),2):\n",
    "#                 color, ring = rings[i], rings[i+1]\n",
    "#                 dict_[ring].add(color)\n",
    "#             return sum(len(v) == 3 for v in dict_.values())"
   ]
  },
  {
   "cell_type": "markdown",
   "id": "d8a1718e",
   "metadata": {},
   "source": [
    "1863. Sum of All Subset XOR Totals\n",
    "\n",
    "The XOR total of an array is defined as the bitwise XOR of all its elements, or 0 if the array is empty.\n",
    "\n",
    "For example, the XOR total of the array [2,5,6] is 2 XOR 5 XOR 6 = 1.\n",
    "Given an array nums, return the sum of all XOR totals for every subset of nums. \n",
    "\n",
    "Note: Subsets with the same elements should be counted multiple times.\n",
    "\n",
    "An array a is a subset of an array b if a can be obtained from b by deleting some (possibly zero) elements of b."
   ]
  },
  {
   "cell_type": "code",
   "execution_count": null,
   "id": "1bcf21a2",
   "metadata": {},
   "outputs": [],
   "source": [
    "class Solution:\n",
    "    def subsetXORSum(self, nums: List[int]) -> int:\n",
    "        n=len(nums)\n",
    "        all_or=0\n",
    "        for i in range(n):\n",
    "            all_or|=nums[i]\n",
    "        return all_or*(1<<(n-1))\n",
    "    \n",
    "# class Solution:\n",
    "#     def subsetXORSum(self, nums: List[int]) -> int:\n",
    "#         l = len(nums)\n",
    "#         res = 0\n",
    "\n",
    "#         stack = [(0, 0)]\n",
    "\n",
    "#         while stack:\n",
    "#             pos, xor = stack.pop()\n",
    "#             res+=xor\n",
    "#             for i in range(pos, l):\n",
    "#                 stack.append((i+1, xor^nums[i]))\n",
    "#         return res"
   ]
  },
  {
   "cell_type": "markdown",
   "id": "f0b2fba1",
   "metadata": {},
   "source": [
    "1844. Replace All Digits with Characters\n",
    "\n",
    "You are given a 0-indexed string s that has lowercase English letters in its even indices and digits in its odd indices.\n",
    "\n",
    "There is a function shift(c, x), where c is a character and x is a digit, that returns the xth character after c.\n",
    "\n",
    "For example, shift('a', 5) = 'f' and shift('x', 0) = 'x'.\n",
    "For every odd index i, you want to replace the digit s[i] with shift(s[i-1], s[i]).\n",
    "\n",
    "Return s after replacing all digits. It is guaranteed that shift(s[i-1], s[i]) will never exceed 'z'."
   ]
  },
  {
   "cell_type": "code",
   "execution_count": null,
   "id": "5edc9cd3",
   "metadata": {},
   "outputs": [],
   "source": [
    "class Solution:\n",
    "    def replaceDigits(self, s: str) -> str:\n",
    "        s = list(s)\n",
    "        for i in range(1, len(s), 2):\n",
    "            s[i] = chr(ord(s[i - 1]) + int(s[i]))\n",
    "        return ''.join(s)"
   ]
  },
  {
   "cell_type": "markdown",
   "id": "c065d20f",
   "metadata": {},
   "source": [
    "1464. Maximum Product of Two Elements in an Array\n",
    "\n",
    "Given the array of integers nums, you will choose two different indices i and j of that array. Return the maximum value of (nums[i]-1)*(nums[j]-1)."
   ]
  },
  {
   "cell_type": "code",
   "execution_count": 36,
   "id": "26e25022",
   "metadata": {},
   "outputs": [
    {
     "name": "stdout",
     "output_type": "stream",
     "text": [
      "4\n"
     ]
    }
   ],
   "source": [
    "class Solution:\n",
    "    def maxProduct(self, nums: List[int]) -> int:\n",
    "        nums.sort(reverse=True)\n",
    "        return((nums[0]-1)*(nums[1]-1))\n",
    "    \n",
    "# class Solution(object):\n",
    "#     def maxProduct(self, nums):\n",
    "\n",
    "#         first, second = 0, 0\n",
    "        \n",
    "#         for number in nums:\n",
    "#             if number > first:\n",
    "#                 first, second = number, first\n",
    "                \n",
    "#             elif number > second:\n",
    "#                 second = number\n",
    "#         return (first - 1) * (second - 1)"
   ]
  },
  {
   "cell_type": "markdown",
   "id": "f3a04b59",
   "metadata": {},
   "source": [
    "2697. Lexicographically Smallest Palindrome\n",
    "\n",
    "You are given a string s consisting of lowercase English letters, and you are allowed to perform operations on it. In one operation, you can replace a character in s with another lowercase English letter.\n",
    "\n",
    "Your task is to make s a palindrome with the minimum number of operations possible. If there are multiple palindromes that can be made using the minimum number of operations, make the lexicographically smallest one.\n",
    "\n",
    "A string a is lexicographically smaller than a string b (of the same length) if in the first position where a and b differ, string a has a letter that appears earlier in the alphabet than the corresponding letter in b.\n",
    "\n",
    "Return the resulting palindrome string."
   ]
  },
  {
   "cell_type": "code",
   "execution_count": null,
   "id": "d8bbee9c",
   "metadata": {},
   "outputs": [],
   "source": []
  },
  {
   "cell_type": "code",
   "execution_count": null,
   "id": "0487319d",
   "metadata": {},
   "outputs": [],
   "source": [
    "\n",
    "\n",
    " \n",
    "\n",
    "Example 1:\n",
    "\n",
    "Input: s = \"egcfe\"\n",
    "Output: \"efcfe\"\n",
    "Explanation: The minimum number of operations to make \"egcfe\" a palindrome is 1, and the lexicographically smallest \n",
    "    palindrome string we can get by modifying one character is \"efcfe\", by changing 'g'.\n",
    "Example 2:\n",
    "\n",
    "Input: s = \"abcd\"\n",
    "Output: \"abba\"\n",
    "Explanation: The minimum number of operations to make \"abcd\" a palindrome is 2, and the lexicographically smallest palindrome \n",
    "    string we can get by modifying two characters is \"abba\".\n",
    "Example 3:\n",
    "\n",
    "Input: s = \"seven\"\n",
    "Output: \"neven\"\n",
    "Explanation: The minimum number of operations to make \"seven\" a palindrome is 1, and the lexicographically smallest palindrome \n",
    "    string we can get by modifying one character is \"neven\"."
   ]
  },
  {
   "cell_type": "code",
   "execution_count": null,
   "id": "a5a8f95c",
   "metadata": {},
   "outputs": [],
   "source": []
  },
  {
   "cell_type": "code",
   "execution_count": null,
   "id": "035e1407",
   "metadata": {},
   "outputs": [],
   "source": []
  },
  {
   "cell_type": "code",
   "execution_count": null,
   "id": "a373d26c",
   "metadata": {},
   "outputs": [],
   "source": []
  }
 ],
 "metadata": {
  "kernelspec": {
   "display_name": "Python 3",
   "language": "python",
   "name": "python3"
  },
  "language_info": {
   "codemirror_mode": {
    "name": "ipython",
    "version": 3
   },
   "file_extension": ".py",
   "mimetype": "text/x-python",
   "name": "python",
   "nbconvert_exporter": "python",
   "pygments_lexer": "ipython3",
   "version": "3.8.8"
  }
 },
 "nbformat": 4,
 "nbformat_minor": 5
}
