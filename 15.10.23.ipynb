{
 "cells": [
  {
   "cell_type": "markdown",
   "id": "03ca4f9d",
   "metadata": {},
   "source": [
    "2744. Find Maximum Number of String Pairs\n",
    "\n",
    "You are given a 0-indexed array words consisting of distinct strings.\n",
    "\n",
    "The string words[i] can be paired with the string words[j] if:\n",
    "\n",
    "The string words[i] is equal to the reversed string of words[j].\n",
    "0 <= i < j < words.length.\n",
    "Return the maximum number of pairs that can be formed from the array words.\n",
    "\n",
    "Note that each string can belong in at most one pair."
   ]
  },
  {
   "cell_type": "code",
   "execution_count": null,
   "id": "f19e2930",
   "metadata": {},
   "outputs": [],
   "source": [
    "class Solution:\n",
    "    def maximumNumberOfStringPairs(self, words: List[str]) -> int:\n",
    "        x = 0\n",
    "\n",
    "        while len(words) != 0:\n",
    "            pre = words.pop(0)\n",
    "            for i in words:\n",
    "                if i[::-1] == pre:\n",
    "                    x += 1\n",
    "        return(x)\n",
    "    \n",
    "# class Solution:\n",
    "#     def maximumNumberOfStringPairs(self, words: List[str]) -> int:\n",
    "#         strings = set()\n",
    "#         ans = 0\n",
    "#         for w in words:\n",
    "#             if w in strings:\n",
    "#                 ans += 1\n",
    "#             else:\n",
    "#                 strings.add(w[::-1])\n",
    "#         return ans"
   ]
  },
  {
   "cell_type": "markdown",
   "id": "3c530434",
   "metadata": {},
   "source": [
    "1967. Number of Strings That Appear as Substrings in Word\n",
    "\n",
    "Given an array of strings patterns and a string word, return the number of strings in patterns that exist as a substring in word.\n",
    "\n",
    "A substring is a contiguous sequence of characters within a string."
   ]
  },
  {
   "cell_type": "code",
   "execution_count": 18,
   "id": "bd24f70a",
   "metadata": {},
   "outputs": [
    {
     "data": {
      "text/plain": [
       "3"
      ]
     },
     "execution_count": 18,
     "metadata": {},
     "output_type": "execute_result"
    }
   ],
   "source": [
    "class Solution:\n",
    "    def numOfStrings(self, patterns: List[str], word: str) -> int:\n",
    "        x= 0 \n",
    "\n",
    "        for i in patterns:\n",
    "            if i in word:\n",
    "                x += 1\n",
    "                \n",
    "        return(x)\n",
    "    \n",
    "# class Solution:\n",
    "#     def numOfStrings(self, patterns: List[str], word: str) -> int:\n",
    "#         return sum(x in word for x in patterns)"
   ]
  },
  {
   "cell_type": "markdown",
   "id": "f7aa9142",
   "metadata": {},
   "source": [
    "2418. Sort the People\n",
    "\n",
    "You are given an array of strings names, and an array heights that consists of distinct positive integers. Both arrays are of length n.\n",
    "\n",
    "For each index i, names[i] and heights[i] denote the name and height of the ith person.\n",
    "\n",
    "Return names sorted in descending order by the people's heights."
   ]
  },
  {
   "cell_type": "code",
   "execution_count": 25,
   "id": "f7dcb1e0",
   "metadata": {},
   "outputs": [
    {
     "data": {
      "text/plain": [
       "['Mary', 'Emma', 'John']"
      ]
     },
     "execution_count": 25,
     "metadata": {},
     "output_type": "execute_result"
    }
   ],
   "source": [
    "class Solution:\n",
    "    def sortPeople(self, names: List[str], heights: List[int]) -> List[str]:\n",
    "        x = list(zip(heights, names))\n",
    "        x.sort(reverse=True)\n",
    "\n",
    "        return([j for i, j in x])\n",
    "    \n",
    "# class Solution:\n",
    "#     def sortPeople(self, names: List[str], heights: List[int]) -> List[str]:\n",
    "#         height_dict = dict(zip(heights,names))\n",
    "#         names.clear()\n",
    "#         for key in sorted(height_dict.keys(),reverse=True):\n",
    "#             names.append(height_dict[key])\n",
    "#         return names"
   ]
  },
  {
   "cell_type": "markdown",
   "id": "da6c0c2c",
   "metadata": {},
   "source": [
    "2485. Find the Pivot Integer\n",
    "\n",
    "Given a positive integer n, find the pivot integer x such that:\n",
    "\n",
    "The sum of all elements between 1 and x inclusively equals the sum of all elements between x and n inclusively.\n",
    "Return the pivot integer x. If no such integer exists, return -1. It is guaranteed that there will be at most one pivot index for the given input."
   ]
  },
  {
   "cell_type": "code",
   "execution_count": null,
   "id": "6cb1c970",
   "metadata": {},
   "outputs": [],
   "source": [
    "class Solution:\n",
    "    def pivotInteger(self, n: int) -> int:\n",
    "        right_sum = n * (n + 1) // 2\n",
    "        left_sum = 0\n",
    "        for i in range(1, n + 1):\n",
    "            right_sum -= i\n",
    "            if left_sum == right_sum:\n",
    "                return i\n",
    "            left_sum += i\n",
    "        return -1"
   ]
  },
  {
   "cell_type": "markdown",
   "id": "12e1ba71",
   "metadata": {},
   "source": [
    "2000. Reverse Prefix of Word\n",
    "\n",
    "Given a 0-indexed string word and a character ch, reverse the segment of word that starts at index 0 and ends at the index of the first occurrence of ch (inclusive). If the character ch does not exist in word, do nothing.\n",
    "\n",
    "For example, if word = \"abcdefd\" and ch = \"d\", then you should reverse the segment that starts at 0 and ends at 3 (inclusive). The resulting string will be \"dcbaefd\".\n",
    "Return the resulting string."
   ]
  },
  {
   "cell_type": "code",
   "execution_count": 36,
   "id": "c4724c57",
   "metadata": {},
   "outputs": [
    {
     "name": "stdout",
     "output_type": "stream",
     "text": [
      "zxyxxe\n"
     ]
    }
   ],
   "source": [
    "class Solution:\n",
    "    def reversePrefix(self, word: str, ch: str) -> str:\n",
    "        word = word.split(ch, 1)\n",
    "\n",
    "        if len(word) != 1:\n",
    "            return(ch + word[0][::-1] + ''.join(word[1:]))\n",
    "        else:\n",
    "            return(word[0])\n",
    "        \n"
   ]
  },
  {
   "cell_type": "code",
   "execution_count": 34,
   "id": "3e40657c",
   "metadata": {},
   "outputs": [
    {
     "data": {
      "text/plain": [
       "'cba'"
      ]
     },
     "execution_count": 34,
     "metadata": {},
     "output_type": "execute_result"
    }
   ],
   "source": [
    "word[0][::-1]"
   ]
  },
  {
   "cell_type": "code",
   "execution_count": null,
   "id": "fb1ca789",
   "metadata": {},
   "outputs": [],
   "source": [
    "\n",
    "\n",
    " \n",
    "\n",
    "Example 1:\n",
    "\n",
    "Input: word = \"abcdefd\", ch = \"d\"\n",
    "Output: \"dcbaefd\"\n",
    "Explanation: The first occurrence of \"d\" is at index 3. \n",
    "Reverse the part of word from 0 to 3 (inclusive), the resulting string is \"dcbaefd\".\n",
    "Example 2:\n",
    "\n",
    "Input: word = \"xyxzxe\", ch = \"z\"\n",
    "Output: \"zxyxxe\"\n",
    "Explanation: The first and only occurrence of \"z\" is at index 3.\n",
    "Reverse the part of word from 0 to 3 (inclusive), the resulting string is \"zxyxxe\".\n",
    "Example 3:\n",
    "\n",
    "Input: word = \"abcd\", ch = \"z\"\n",
    "Output: \"abcd\"\n",
    "Explanation: \"z\" does not exist in word.\n",
    "You should not do any reverse operation, the resulting string is \"abcd\"."
   ]
  },
  {
   "cell_type": "code",
   "execution_count": null,
   "id": "9d9fefa2",
   "metadata": {},
   "outputs": [],
   "source": []
  }
 ],
 "metadata": {
  "kernelspec": {
   "display_name": "Python 3",
   "language": "python",
   "name": "python3"
  },
  "language_info": {
   "codemirror_mode": {
    "name": "ipython",
    "version": 3
   },
   "file_extension": ".py",
   "mimetype": "text/x-python",
   "name": "python",
   "nbconvert_exporter": "python",
   "pygments_lexer": "ipython3",
   "version": "3.8.8"
  }
 },
 "nbformat": 4,
 "nbformat_minor": 5
}
