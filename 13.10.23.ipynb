{
 "cells": [
  {
   "cell_type": "markdown",
   "id": "95a3802e",
   "metadata": {},
   "source": [
    "1290. Convert Binary Number in a Linked List to Integer\n",
    "\n",
    "Given head which is a reference node to a singly-linked list. The value of each node in the linked list is either 0 or 1. The linked list holds the binary representation of a number.\n",
    "\n",
    "Return the decimal value of the number in the linked list.\n",
    "\n",
    "The most significant bit is at the head of the linked list."
   ]
  },
  {
   "cell_type": "code",
   "execution_count": null,
   "id": "e85fbb5a",
   "metadata": {},
   "outputs": [],
   "source": [
    "class Solution:\n",
    "    def getDecimalValue(self, head: ListNode) -> int:\n",
    "        answer = 0\n",
    "        while head: \n",
    "            answer = 2*answer + head.val \n",
    "            head = head.next \n",
    "        return answer "
   ]
  },
  {
   "cell_type": "markdown",
   "id": "936ed8ad",
   "metadata": {},
   "source": [
    "832. Flipping an Image\n",
    "\n",
    "Given an n x n binary matrix image, flip the image horizontally, then invert it, and return the resulting image.\n",
    "\n",
    "To flip an image horizontally means that each row of the image is reversed.\n",
    "\n",
    "For example, flipping [1,1,0] horizontally results in [0,1,1].\n",
    "To invert an image means that each 0 is replaced by 1, and each 1 is replaced by 0.\n",
    "\n",
    "For example, inverting [0,1,1] results in [1,0,0]."
   ]
  },
  {
   "cell_type": "code",
   "execution_count": 7,
   "id": "fc622a0a",
   "metadata": {},
   "outputs": [
    {
     "data": {
      "text/plain": [
       "[[1, 0, 0], [0, 1, 0], [1, 1, 1]]"
      ]
     },
     "execution_count": 7,
     "metadata": {},
     "output_type": "execute_result"
    }
   ],
   "source": [
    "class Solution:\n",
    "    def flipAndInvertImage(self, image: List[List[int]]) -> List[List[int]]:\n",
    "        for i in range(len(image)):\n",
    "            image[i] = image[i][::-1]\n",
    "        for i in range(len(image)):\n",
    "            for j in range(len(image[i])):\n",
    "                if image[i][j] == 1:\n",
    "                    image[i][j] = 0\n",
    "                else:\n",
    "                    image[i][j] = 1\n",
    "        return(image)\n",
    "      \n",
    "# class Solution:\n",
    "#     def flipAndInvertImage(self, image: List[List[int]]) -> List[List[int]]:\n",
    "#         return [[0 if x==1 else 1 for x in x][::-1] for x in image] "
   ]
  },
  {
   "cell_type": "markdown",
   "id": "df4794bc",
   "metadata": {},
   "source": [
    "1913. Maximum Product Difference Between Two Pairs\n",
    "\n",
    "The product difference between two pairs (a, b) and (c, d) is defined as (a * b) - (c * d).\n",
    "\n",
    "For example, the product difference between (5, 6) and (2, 7) is (5 * 6) - (2 * 7) = 16.\n",
    "Given an integer array nums, choose four distinct indices w, x, y, and z such that the product difference between pairs (nums[w], nums[x]) and (nums[y], nums[z]) is maximized.\n",
    "\n",
    "Return the maximum such product difference."
   ]
  },
  {
   "cell_type": "code",
   "execution_count": 11,
   "id": "98193b47",
   "metadata": {},
   "outputs": [
    {
     "ename": "IndexError",
     "evalue": "list index out of range",
     "output_type": "error",
     "traceback": [
      "\u001b[1;31m---------------------------------------------------------------------------\u001b[0m",
      "\u001b[1;31mIndexError\u001b[0m                                Traceback (most recent call last)",
      "\u001b[1;32m<ipython-input-11-293dacb23e74>\u001b[0m in \u001b[0;36m<module>\u001b[1;34m\u001b[0m\n\u001b[0;32m      3\u001b[0m \u001b[0mnums\u001b[0m\u001b[1;33m.\u001b[0m\u001b[0msort\u001b[0m\u001b[1;33m(\u001b[0m\u001b[1;33m)\u001b[0m\u001b[1;33m\u001b[0m\u001b[1;33m\u001b[0m\u001b[0m\n\u001b[0;32m      4\u001b[0m \u001b[1;31m#return((nums[-1]*nums[-2]) - (nums[0]*nums[1]))\u001b[0m\u001b[1;33m\u001b[0m\u001b[1;33m\u001b[0m\u001b[1;33m\u001b[0m\u001b[0m\n\u001b[1;32m----> 5\u001b[1;33m \u001b[1;33m(\u001b[0m\u001b[0mnums\u001b[0m\u001b[1;33m[\u001b[0m\u001b[1;33m-\u001b[0m\u001b[1;36m1\u001b[0m\u001b[1;33m]\u001b[0m\u001b[1;33m*\u001b[0m\u001b[0mnums\u001b[0m\u001b[1;33m[\u001b[0m\u001b[1;33m-\u001b[0m\u001b[1;36m2\u001b[0m\u001b[1;33m]\u001b[0m\u001b[1;33m)\u001b[0m \u001b[1;33m-\u001b[0m \u001b[1;33m(\u001b[0m\u001b[0mnums\u001b[0m\u001b[1;33m[\u001b[0m\u001b[1;36m0\u001b[0m\u001b[1;33m]\u001b[0m\u001b[1;33m*\u001b[0m\u001b[0mnums\u001b[0m\u001b[1;33m[\u001b[0m\u001b[1;36m1\u001b[0m\u001b[1;33m]\u001b[0m\u001b[1;33m)\u001b[0m\u001b[1;33m\u001b[0m\u001b[1;33m\u001b[0m\u001b[0m\n\u001b[0m",
      "\u001b[1;31mIndexError\u001b[0m: list index out of range"
     ]
    }
   ],
   "source": [
    "class Solution:\n",
    "    def maxProductDifference(self, nums: List[int]) -> int:\n",
    "        nums.sort()\n",
    "        return((nums[-1]*nums[-2]) - (nums[0]*nums[1]))\n",
    "    \n",
    "# class Solution:\n",
    "#     def maxProductDifference(self, nums: List[int]) -> int:\n",
    "#             min1 = min2 = float('inf')\n",
    "#             max1 = max2 = float('-inf')\n",
    "#             for n in nums:\n",
    "#                 if n <= min1:\n",
    "#                     min1, min2, = n, min1\n",
    "#                 elif n < min2:\n",
    "#                     min2 = n\n",
    "#                 if n >= max1:\n",
    "#                     max1, max2 = n, max1\n",
    "#                 elif n > max2:\n",
    "#                     max2 = n\n",
    "#             return max1*max2-min1*min2"
   ]
  },
  {
   "cell_type": "markdown",
   "id": "c9a83481",
   "metadata": {},
   "source": [
    "1534. Count Good Triplets\n",
    "\n",
    "Given an array of integers arr, and three integers a, b and c. You need to find the number of good triplets.\n",
    "\n",
    "A triplet (arr[i], arr[j], arr[k]) is good if the following conditions are true:\n",
    "\n",
    "0 <= i < j < k < arr.length\n",
    "|arr[i] - arr[j]| <= a\n",
    "|arr[j] - arr[k]| <= b\n",
    "|arr[i] - arr[k]| <= c\n",
    "Where |x| denotes the absolute value of x.\n",
    "\n",
    "Return the number of good triplets."
   ]
  },
  {
   "cell_type": "code",
   "execution_count": null,
   "id": "1a572e18",
   "metadata": {},
   "outputs": [],
   "source": [
    "class Solution:\n",
    "    def countGoodTriplets(self, ar: List[int], a: int, b: int, c: int) -> int:\n",
    "        count = 0\n",
    "        for i in range(len(ar)):\n",
    "            for j in range(i+1, len(ar)):\n",
    "                for k in range(j+1, len(ar)):\n",
    "                    if abs(ar[i]-ar[j])<=a and abs(ar[j]-ar[k])<=b and abs(ar[i]-ar[k])<=c:\n",
    "                        count += 1\n",
    "        return count\n",
    "    \n",
    "# class Solution:\n",
    "#     def countGoodTriplets(self, arr: List[int], a: int, b: int, c: int) -> int:\n",
    "#         return sum(abs(arr[i] - arr[j]) <= a and abs(arr[j] - arr[k]) <= b and abs(arr[i] - arr[k]) <= c for i in range(len(arr)) for j in range(i+1, len(arr)) for k in range(j+1, len(arr)))"
   ]
  },
  {
   "cell_type": "code",
   "execution_count": null,
   "id": "7d6f8084",
   "metadata": {},
   "outputs": [],
   "source": []
  },
  {
   "cell_type": "code",
   "execution_count": null,
   "id": "0479df34",
   "metadata": {},
   "outputs": [],
   "source": []
  },
  {
   "cell_type": "code",
   "execution_count": null,
   "id": "7abc5227",
   "metadata": {},
   "outputs": [],
   "source": []
  },
  {
   "cell_type": "code",
   "execution_count": null,
   "id": "1b69fb1d",
   "metadata": {},
   "outputs": [],
   "source": []
  },
  {
   "cell_type": "code",
   "execution_count": null,
   "id": "4fe784b9",
   "metadata": {},
   "outputs": [],
   "source": []
  },
  {
   "cell_type": "code",
   "execution_count": null,
   "id": "3715d07e",
   "metadata": {},
   "outputs": [],
   "source": []
  },
  {
   "cell_type": "code",
   "execution_count": null,
   "id": "f62f9b2b",
   "metadata": {},
   "outputs": [],
   "source": []
  },
  {
   "cell_type": "code",
   "execution_count": null,
   "id": "d07a14ea",
   "metadata": {},
   "outputs": [],
   "source": []
  },
  {
   "cell_type": "code",
   "execution_count": null,
   "id": "f1e34ff9",
   "metadata": {},
   "outputs": [],
   "source": []
  },
  {
   "cell_type": "code",
   "execution_count": null,
   "id": "3e14bafa",
   "metadata": {},
   "outputs": [],
   "source": []
  },
  {
   "cell_type": "code",
   "execution_count": null,
   "id": "e5c42336",
   "metadata": {},
   "outputs": [],
   "source": []
  },
  {
   "cell_type": "code",
   "execution_count": null,
   "id": "3c3c1b6c",
   "metadata": {},
   "outputs": [],
   "source": []
  },
  {
   "cell_type": "code",
   "execution_count": null,
   "id": "07fc9716",
   "metadata": {},
   "outputs": [],
   "source": []
  }
 ],
 "metadata": {
  "kernelspec": {
   "display_name": "Python 3",
   "language": "python",
   "name": "python3"
  },
  "language_info": {
   "codemirror_mode": {
    "name": "ipython",
    "version": 3
   },
   "file_extension": ".py",
   "mimetype": "text/x-python",
   "name": "python",
   "nbconvert_exporter": "python",
   "pygments_lexer": "ipython3",
   "version": "3.8.8"
  }
 },
 "nbformat": 4,
 "nbformat_minor": 5
}
