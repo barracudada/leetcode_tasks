{
 "cells": [
  {
   "cell_type": "markdown",
   "id": "cfa940f0",
   "metadata": {},
   "source": [
    "2520. Count the Digits That Divide a Number\n",
    "\n",
    "Given an integer num, return the number of digits in num that divide num.\n",
    "\n",
    "An integer val divides nums if nums % val == 0."
   ]
  },
  {
   "cell_type": "code",
   "execution_count": null,
   "id": "66b2d00c",
   "metadata": {},
   "outputs": [],
   "source": [
    "class Solution:\n",
    "    def countDigits(self, num: int) -> int:\n",
    "        pre = num\n",
    "        ans = 0\n",
    "        while pre != 0:\n",
    "            x = pre % 10 \n",
    "            if (num / x).is_integer():\n",
    "                ans += 1\n",
    "            pre = pre // 10\n",
    "        return(ans)"
   ]
  },
  {
   "cell_type": "markdown",
   "id": "ada9952c",
   "metadata": {},
   "source": [
    "1859. Sorting the Sentence\n",
    "\n",
    "A sentence is a list of words that are separated by a single space with no leading or trailing spaces. Each word consists of lowercase and uppercase English letters.\n",
    "\n",
    "A sentence can be shuffled by appending the 1-indexed word position to each word then rearranging the words in the sentence.\n",
    "\n",
    "For example, the sentence \"This is a sentence\" can be shuffled as \"sentence4 a3 is2 This1\" or \"is2 sentence4 This1 a3\".\n",
    "Given a shuffled sentence s containing no more than 9 words, reconstruct and return the original sentence.\n"
   ]
  },
  {
   "cell_type": "code",
   "execution_count": null,
   "id": "bc7692f1",
   "metadata": {},
   "outputs": [],
   "source": [
    "class Solution:\n",
    "    def sortSentence(self, s: str) -> str:\n",
    "        s = s.split(' ')\n",
    "        x = ['']*len(s)\n",
    "        for i in s:\n",
    "            for j in i:\n",
    "                try:\n",
    "                    x[int(j)-1] = i[:-1]\n",
    "                except:\n",
    "                    pass\n",
    "        s = ''\n",
    "        while len(x)!=1:\n",
    "            s += x.pop(0) + ' '\n",
    "        \n",
    "        s += x.pop(0)\n",
    "        return(s)"
   ]
  },
  {
   "cell_type": "markdown",
   "id": "ab614a11",
   "metadata": {},
   "source": [
    "1588. Sum of All Odd Length Subarrays\n",
    "\n",
    "Given an array of positive integers arr, return the sum of all possible odd-length subarrays of arr.\n",
    "\n",
    "A subarray is a contiguous subsequence of the array."
   ]
  },
  {
   "cell_type": "code",
   "execution_count": null,
   "id": "3610e5b1",
   "metadata": {},
   "outputs": [],
   "source": [
    "class Solution:\n",
    "    def sumOddLengthSubarrays(self, arr: List[int]) -> int:\n",
    "        x = 0\n",
    "        for i in range(len(arr)):\n",
    "            for j in range(i, len(arr), 2):\n",
    "                x += sum(arr[i:j+1])\n",
    "        return(x)\n",
    "    \n",
    "# class Solution:\n",
    "#     def sumOddLengthSubarrays(self, arr: List[int]) -> int:\n",
    "#         res = 0; freq = 0; n = len(arr)\n",
    "#         for i in range(n):\n",
    "#             freq = freq-(i+1)//2+(n-i+1)//2\n",
    "#             res += freq*arr[i]\n",
    "#         return res"
   ]
  },
  {
   "cell_type": "markdown",
   "id": "55fc3a6f",
   "metadata": {},
   "source": [
    "1832. Check if the Sentence Is Pangram\n",
    "\n",
    "A pangram is a sentence where every letter of the English alphabet appears at least once.\n",
    "\n",
    "Given a string sentence containing only lowercase English letters, return true if sentence is a pangram, or false otherwise.\n"
   ]
  },
  {
   "cell_type": "code",
   "execution_count": null,
   "id": "1fa1ce54",
   "metadata": {},
   "outputs": [],
   "source": [
    "class Solution:\n",
    "    def checkIfPangram(self, sentence: str) -> bool:\n",
    "        return(len(set(sentence))==26)"
   ]
  },
  {
   "cell_type": "markdown",
   "id": "42862015",
   "metadata": {},
   "source": [
    "2006. Count Number of Pairs With Absolute Difference K\n",
    "\n",
    "Given an integer array nums and an integer k, return the number of pairs (i, j) where i < j such that |nums[i] - nums[j]| == k.\n"
   ]
  },
  {
   "cell_type": "code",
   "execution_count": null,
   "id": "1bbcedbe",
   "metadata": {},
   "outputs": [],
   "source": [
    "class Solution:\n",
    "    def countKDifference(self, nums: List[int], k: int) -> int:\n",
    "        x = 0\n",
    "        for i in range(0, len(nums)):\n",
    "            for j in range(i, len(nums)):\n",
    "                if abs(nums[i] - nums[j]) == k:\n",
    "                    x+= 1\n",
    "        return(x)"
   ]
  }
 ],
 "metadata": {
  "kernelspec": {
   "display_name": "Python 3",
   "language": "python",
   "name": "python3"
  },
  "language_info": {
   "codemirror_mode": {
    "name": "ipython",
    "version": 3
   },
   "file_extension": ".py",
   "mimetype": "text/x-python",
   "name": "python",
   "nbconvert_exporter": "python",
   "pygments_lexer": "ipython3",
   "version": "3.8.8"
  }
 },
 "nbformat": 4,
 "nbformat_minor": 5
}
