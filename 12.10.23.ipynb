{
 "cells": [
  {
   "cell_type": "markdown",
   "id": "d2e28f5e",
   "metadata": {},
   "source": [
    "1021. Remove Outermost Parentheses\n",
    "\n",
    "A valid parentheses string is either empty \"\", \"(\" + A + \")\", or A + B, where A and B are valid parentheses strings, and + represents string concatenation.\n",
    "\n",
    "For example, \"\", \"()\", \"(())()\", and \"(()(()))\" are all valid parentheses strings.\n",
    "A valid parentheses string s is primitive if it is nonempty, and there does not exist a way to split it into s = A + B, with A and B nonempty valid parentheses strings.\n",
    "\n",
    "Given a valid parentheses string s, consider its primitive decomposition: s = P1 + P2 + ... + Pk, where Pi are primitive valid parentheses strings.\n",
    "\n",
    "Return s after removing the outermost parentheses of every primitive string in the primitive decomposition of s.\n"
   ]
  },
  {
   "cell_type": "code",
   "execution_count": null,
   "id": "ef886806",
   "metadata": {},
   "outputs": [],
   "source": [
    "class Solution:\n",
    "    def removeOuterParentheses(self, s: str) -> str:\n",
    "        res = []\n",
    "        cnt = 0\n",
    "\n",
    "        for i in s:\n",
    "            if i == ')':\n",
    "                cnt -= 1\n",
    "            if cnt > 0:\n",
    "                res.append(i)\n",
    "            if i == '(':\n",
    "                cnt += 1\n",
    "        return(''.join(res))"
   ]
  },
  {
   "cell_type": "markdown",
   "id": "a38f79fe",
   "metadata": {},
   "source": [
    "2037. Minimum Number of Moves to Seat Everyone\n",
    "\n",
    "There are n seats and n students in a room. You are given an array seats of length n, where seats[i] is the position of the ith seat. You are also given the array students of length n, where students[j] is the position of the jth student.\n",
    "\n",
    "You may perform the following move any number of times:\n",
    "\n",
    "Increase or decrease the position of the ith student by 1 (i.e., moving the ith student from position x to x + 1 or x - 1)\n",
    "Return the minimum number of moves required to move each student to a seat such that no two students are in the same seat.\n",
    "\n",
    "Note that there may be multiple seats or students in the same position at the beginning."
   ]
  },
  {
   "cell_type": "code",
   "execution_count": null,
   "id": "8e7dd838",
   "metadata": {},
   "outputs": [],
   "source": [
    "class Solution:\n",
    "    def minMovesToSeat(self, seats: List[int], students: List[int]) -> int:\n",
    "        seats.sort()\n",
    "        students.sort()\n",
    "        s = 0\n",
    "        for i in list(zip(seats, students)):\n",
    "            s += abs(i[0] - i[1] )\n",
    "            \n",
    "        return(s)"
   ]
  },
  {
   "cell_type": "markdown",
   "id": "c0f8021a",
   "metadata": {},
   "source": [
    "2315. Count Asterisks\n",
    "\n",
    "You are given a string s, where every two consecutive vertical bars '|' are grouped into a pair. In other words, the 1st and 2nd '|' make a pair, the 3rd and 4th '|' make a pair, and so forth.\n",
    "\n",
    "Return the number of '*' in s, excluding the '*' between each pair of '|'.\n",
    "\n",
    "Note that each '|' will belong to exactly one pair."
   ]
  },
  {
   "cell_type": "code",
   "execution_count": null,
   "id": "134110b8",
   "metadata": {},
   "outputs": [],
   "source": [
    "class Solution:\n",
    "    def countAsterisks(self, s: str) -> int:\n",
    "        v = 0\n",
    "        ans = 0\n",
    "\n",
    "        for i in s:\n",
    "            if i == '|':\n",
    "                v += 1\n",
    "            if v % 2 == 0 and i == '*':\n",
    "                ans += 1\n",
    "        return ans\n",
    "\n",
    "# class Solution:\n",
    "#     def countAsterisks(self, s: str) -> int:\n",
    "#         count_stars, count = True, 0\n",
    "#         for c in s:\n",
    "#             if c == \"|\":\n",
    "#                 count_stars = not count_stars\n",
    "#             elif count_stars and c == \"*\":\n",
    "#                 count += 1\n",
    "#         return count"
   ]
  },
  {
   "cell_type": "markdown",
   "id": "0c5c057f",
   "metadata": {},
   "source": [
    "1614. Maximum Nesting Depth of the Parentheses\n",
    "\n",
    "A string is a valid parentheses string (denoted VPS) if it meets one of the following:\n",
    "\n",
    "It is an empty string \"\", or a single character not equal to \"(\" or \")\",\n",
    "It can be written as AB (A concatenated with B), where A and B are VPS's, or\n",
    "It can be written as (A), where A is a VPS.\n",
    "We can similarly define the nesting depth depth(S) of any VPS S as follows:\n",
    "\n",
    "depth(\"\") = 0\n",
    "depth(C) = 0, where C is a string with a single character not equal to \"(\" or \")\".\n",
    "depth(A + B) = max(depth(A), depth(B)), where A and B are VPS's.\n",
    "depth(\"(\" + A + \")\") = 1 + depth(A), where A is a VPS.\n",
    "For example, \"\", \"()()\", and \"()(()())\" are VPS's (with nesting depths 0, 1, and 2), and \")(\" and \"(()\" are not VPS's.\n",
    "\n",
    "Given a VPS represented as string s, return the nesting depth of s."
   ]
  },
  {
   "cell_type": "code",
   "execution_count": null,
   "id": "848a1566",
   "metadata": {},
   "outputs": [],
   "source": [
    "class Solution:\n",
    "    def maxDepth(self, s: str) -> int:\n",
    "        x = 0\n",
    "        y = 0\n",
    "        for i in s:\n",
    "            if i == '(':\n",
    "                x += 1\n",
    "            if i == ')':\n",
    "                x -= 1\n",
    "            if x > y:\n",
    "                y = x\n",
    "        return(y)\n",
    "    \n",
    "# class Solution:\n",
    "#     def maxDepth(self, s: str) -> int:\n",
    "#         ans = cur = 0\n",
    "#         for c in s:\n",
    "#             if c == '(':\n",
    "#                 cur += 1\n",
    "#                 ans = max(ans, cur)\n",
    "#             elif c == ')':\n",
    "#                 cur -= 1\n",
    "#         return ans "
   ]
  },
  {
   "cell_type": "markdown",
   "id": "ef0e68da",
   "metadata": {},
   "source": [
    "2656. Maximum Sum With Exactly K Elements\n",
    "\n",
    "You are given a 0-indexed integer array nums and an integer k. Your task is to perform the following operation exactly k times in order to maximize your score:\n",
    "\n",
    "Select an element m from nums.\n",
    "Remove the selected element m from the array.\n",
    "Add a new element with a value of m + 1 to the array.\n",
    "Increase your score by m.\n",
    "Return the maximum score you can achieve after performing the operation exactly k times."
   ]
  },
  {
   "cell_type": "code",
   "execution_count": null,
   "id": "42d3cf86",
   "metadata": {},
   "outputs": [],
   "source": [
    "class Solution:\n",
    "    def maximizeSum(self, nums: List[int], k: int) -> int:\n",
    "        nums.sort()\n",
    "        x = 0\n",
    "        for i in range(0, k):\n",
    "            i = nums.pop(-1)\n",
    "            nums.append(i + 1)\n",
    "            x += i \n",
    "        return(x)\n",
    "    \n",
    "# class Solution:\n",
    "#     def maximizeSum(self, nums: List[int], k: int) -> int:\n",
    "#         n = max(nums)\n",
    "#         return k*(2*n+k-1)//2\n",
    "\n",
    "# class Solution:\n",
    "#     def maximizeSum(self, nums: List[int], k: int) -> int:\n",
    "#         sums = max(nums)\n",
    "#         for i in range(sums+1,sums+k):\n",
    "#             sums += i\n",
    "#         return sums"
   ]
  }
 ],
 "metadata": {
  "kernelspec": {
   "display_name": "Python 3",
   "language": "python",
   "name": "python3"
  },
  "language_info": {
   "codemirror_mode": {
    "name": "ipython",
    "version": 3
   },
   "file_extension": ".py",
   "mimetype": "text/x-python",
   "name": "python",
   "nbconvert_exporter": "python",
   "pygments_lexer": "ipython3",
   "version": "3.8.8"
  }
 },
 "nbformat": 4,
 "nbformat_minor": 5
}
