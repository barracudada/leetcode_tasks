{
 "cells": [
  {
   "cell_type": "markdown",
   "id": "a0ce3c67",
   "metadata": {},
   "source": [
    "14. Longest Common Prefix\n",
    "\n",
    "Write a function to find the longest common prefix string amongst an array of strings.\n",
    "\n",
    "If there is no common prefix, return an empty string \"\"."
   ]
  },
  {
   "cell_type": "code",
   "execution_count": null,
   "id": "fad472a7",
   "metadata": {},
   "outputs": [],
   "source": [
    "class Solution:\n",
    "    def longestCommonPrefix(self, v: List[str]) -> str:\n",
    "        ans=\"\"\n",
    "        v=sorted(v)\n",
    "        first=v[0]\n",
    "        last=v[-1]\n",
    "        for i in range(min(len(first),len(last))):\n",
    "            if(first[i]!=last[i]):\n",
    "                return ans\n",
    "            ans+=first[i]\n",
    "        return ans "
   ]
  },
  {
   "cell_type": "markdown",
   "id": "c393d184",
   "metadata": {},
   "source": [
    "20. Valid Parentheses\n",
    "\n",
    "Given a string s containing just the characters '(', ')', '{', '}', '[' and ']', determine if the input string is valid.\n",
    "\n",
    "An input string is valid if:\n",
    "\n",
    "Open brackets must be closed by the same type of brackets.\n",
    "Open brackets must be closed in the correct order.\n",
    "Every close bracket has a corresponding open bracket of the same type."
   ]
  },
  {
   "cell_type": "code",
   "execution_count": null,
   "id": "253f5cb1",
   "metadata": {},
   "outputs": [],
   "source": [
    "class Solution(object):\n",
    "    def isValid(self, s):\n",
    "        stack = [] # only use append and pop\n",
    "        pairs = {\n",
    "            '(': ')',\n",
    "            '{': '}',\n",
    "            '[': ']'\n",
    "        }\n",
    "        for bracket in s:\n",
    "            if bracket in pairs:\n",
    "                stack.append(bracket)\n",
    "            elif len(stack) == 0 or bracket != pairs[stack.pop()]:\n",
    "                return False\n",
    "\n",
    "        return len(stack) == 0"
   ]
  },
  {
   "cell_type": "markdown",
   "id": "c628be0b",
   "metadata": {},
   "source": [
    "21. Merge Two Sorted Lists\n",
    "\n",
    "You are given the heads of two sorted linked lists list1 and list2.\n",
    "\n",
    "Merge the two lists into one sorted list. The list should be made by splicing together the nodes of the first two lists.\n",
    "\n",
    "Return the head of the merged linked list."
   ]
  },
  {
   "cell_type": "code",
   "execution_count": null,
   "id": "0f0c9ca6",
   "metadata": {},
   "outputs": [],
   "source": []
  },
  {
   "cell_type": "code",
   "execution_count": null,
   "id": "78b97944",
   "metadata": {},
   "outputs": [],
   "source": []
  },
  {
   "cell_type": "code",
   "execution_count": null,
   "id": "406c10df",
   "metadata": {},
   "outputs": [],
   "source": []
  },
  {
   "cell_type": "code",
   "execution_count": null,
   "id": "694fead5",
   "metadata": {},
   "outputs": [],
   "source": []
  },
  {
   "cell_type": "code",
   "execution_count": null,
   "id": "2404c932",
   "metadata": {},
   "outputs": [],
   "source": []
  }
 ],
 "metadata": {
  "kernelspec": {
   "display_name": "Python 3 (ipykernel)",
   "language": "python",
   "name": "python3"
  },
  "language_info": {
   "codemirror_mode": {
    "name": "ipython",
    "version": 3
   },
   "file_extension": ".py",
   "mimetype": "text/x-python",
   "name": "python",
   "nbconvert_exporter": "python",
   "pygments_lexer": "ipython3",
   "version": "3.9.10"
  }
 },
 "nbformat": 4,
 "nbformat_minor": 5
}
