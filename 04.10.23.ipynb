{
 "cells": [
  {
   "cell_type": "markdown",
   "id": "a2d33f78",
   "metadata": {},
   "source": [
    "1678. Goal Parser Interpretation\n",
    "\n",
    "You own a Goal Parser that can interpret a string command. The command consists of an alphabet of \"G\", \"()\" and/or \"(al)\" in some order. The Goal Parser will interpret \"G\" as the string \"G\", \"()\" as the string \"o\", and \"(al)\" as the string \"al\". The interpreted strings are then concatenated in the original order.\n",
    "\n",
    "Given the string command, return the Goal Parser's interpretation of command."
   ]
  },
  {
   "cell_type": "code",
   "execution_count": 4,
   "id": "8db469b0",
   "metadata": {},
   "outputs": [
    {
     "data": {
      "text/plain": [
       "'alGalooG'"
      ]
     },
     "execution_count": 4,
     "metadata": {},
     "output_type": "execute_result"
    }
   ],
   "source": [
    "class Solution:\n",
    "    def interpret(self, command: str) -> str:\n",
    "        \n",
    "        x = ''\n",
    "\n",
    "        for i,k in enumerate(command):\n",
    "            if k == 'G':\n",
    "                x+='G'\n",
    "            elif k=='(' and command[i+1]==')':\n",
    "                x+='o'\n",
    "            elif k=='(' and command[i+1]=='a': \n",
    "                if i==len()\n",
    "                x+='al'\n",
    "        return(x)"
   ]
  },
  {
   "cell_type": "markdown",
   "id": "24696417",
   "metadata": {},
   "source": [
    "1480. Running Sum of 1d Array\n",
    "\n",
    "Given an array nums. We define a running sum of an array as runningSum[i] = sum(nums[0]…nums[i]).\n",
    "\n",
    "Return the running sum of nums."
   ]
  },
  {
   "cell_type": "code",
   "execution_count": 5,
   "id": "b3170430",
   "metadata": {},
   "outputs": [
    {
     "data": {
      "text/plain": [
       "[]"
      ]
     },
     "execution_count": 5,
     "metadata": {},
     "output_type": "execute_result"
    }
   ],
   "source": [
    "class Solution:\n",
    "    def runningSum(self, nums: List[int]) -> List[int]:\n",
    "        itg = []\n",
    "        for i in range(0, len(nums)):\n",
    "            \n",
    "            itg.append(sum(nums[:i+1]))\n",
    "        return(itg)"
   ]
  },
  {
   "cell_type": "markdown",
   "id": "6d9931ca",
   "metadata": {},
   "source": [
    "1365. How Many Numbers Are Smaller Than the Current Number\n",
    "\n",
    "Given the array nums, for each nums[i] find out how many numbers in the array are smaller than it. That is, for each nums[i] you have to count the number of valid j's such that j != i and nums[j] < nums[i].\n",
    "\n",
    "Return the answer in an array."
   ]
  },
  {
   "cell_type": "code",
   "execution_count": 25,
   "id": "d3e08640",
   "metadata": {},
   "outputs": [
    {
     "data": {
      "text/plain": [
       "[2, 1, 0, 3]"
      ]
     },
     "execution_count": 25,
     "metadata": {},
     "output_type": "execute_result"
    }
   ],
   "source": [
    "class Solution:\n",
    "    def smallerNumbersThanCurrent(self, nums: List[int]) -> List[int]:\n",
    "        itg = sorted(nums)\n",
    "        d = {}\n",
    "\n",
    "        for i in range(len(itg)):\n",
    "            if itg[i] not in d:\n",
    "                d[itg[i]] = i\n",
    "            else:\n",
    "                pass\n",
    "        itg = []\n",
    "        for i in nums:\n",
    "            itg.append(d[i])\n",
    "        return(itg)"
   ]
  },
  {
   "cell_type": "markdown",
   "id": "53630155",
   "metadata": {},
   "source": [
    "2859. Sum of Values at Indices With K Set Bits\n",
    "\n",
    "You are given a 0-indexed integer array nums and an integer k.\n",
    "\n",
    "Return an integer that denotes the sum of elements in nums whose corresponding indices have exactly k set bits in their binary representation.\n",
    "\n",
    "The set bits in an integer are the 1's present when it is written in binary.\n",
    "\n",
    "For example, the binary representation of 21 is 10101, which has 3 set bits."
   ]
  },
  {
   "cell_type": "code",
   "execution_count": 36,
   "id": "cd1776f5",
   "metadata": {},
   "outputs": [
    {
     "data": {
      "text/plain": [
       "'0b11'"
      ]
     },
     "execution_count": 36,
     "metadata": {},
     "output_type": "execute_result"
    }
   ],
   "source": [
    "class Solution:\n",
    "    def sumIndicesWithKSetBits(self, nums: List[int], k: int) -> int:\n",
    "        size = len(nums)\n",
    "        s = 0\n",
    "        for i in range(0,size):\n",
    "            value = bin(i)[2:]\n",
    "            res = str(value).count('1')\n",
    "            if res==k:\n",
    "                s = s + nums[i]\n",
    "        return(s)"
   ]
  },
  {
   "cell_type": "code",
   "execution_count": null,
   "id": "f4467b10",
   "metadata": {},
   "outputs": [],
   "source": [
    "2114. Maximum Number of Words Found in Sentences\n",
    "\n",
    "A sentence is a list of words that are separated by a single space with no leading or trailing spaces.\n",
    "\n",
    "You are given an array of strings sentences, where each sentences[i] represents a single sentence.\n",
    "\n",
    "Return the maximum number of words that appear in a single sentence."
   ]
  },
  {
   "cell_type": "code",
   "execution_count": 37,
   "id": "afee042e",
   "metadata": {},
   "outputs": [
    {
     "data": {
      "text/plain": [
       "6"
      ]
     },
     "execution_count": 37,
     "metadata": {},
     "output_type": "execute_result"
    }
   ],
   "source": [
    "class Solution:\n",
    "    def mostWordsFound(self, sentences: List[str]) -> int:\n",
    "        m = 0\n",
    "        for i in sentences:\n",
    "            m = max(m, len(i.split(' ')))\n",
    "        return(m)"
   ]
  }
 ],
 "metadata": {
  "kernelspec": {
   "display_name": "Python 3",
   "language": "python",
   "name": "python3"
  },
  "language_info": {
   "codemirror_mode": {
    "name": "ipython",
    "version": 3
   },
   "file_extension": ".py",
   "mimetype": "text/x-python",
   "name": "python",
   "nbconvert_exporter": "python",
   "pygments_lexer": "ipython3",
   "version": "3.8.8"
  }
 },
 "nbformat": 4,
 "nbformat_minor": 5
}
