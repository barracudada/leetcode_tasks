{
 "cells": [
  {
   "cell_type": "markdown",
   "id": "2db4e701",
   "metadata": {},
   "source": [
    "1688. Count of Matches in Tournament\n",
    "\n",
    "You are given an integer n, the number of teams in a tournament that has strange rules:\n",
    "\n",
    "If the current number of teams is even, each team gets paired with another team. A total of n / 2 matches are played, and n / 2 teams advance to the next round.\n",
    "If the current number of teams is odd, one team randomly advances in the tournament, and the rest gets paired. A total of (n - 1) / 2 matches are played, and (n - 1) / 2 + 1 teams advance to the next round.\n",
    "Return the number of matches played in the tournament until a winner is decided."
   ]
  },
  {
   "cell_type": "code",
   "execution_count": 16,
   "id": "353b78a4",
   "metadata": {},
   "outputs": [
    {
     "data": {
      "text/plain": [
       "13.0"
      ]
     },
     "execution_count": 16,
     "metadata": {},
     "output_type": "execute_result"
    }
   ],
   "source": [
    "class Solution:\n",
    "    def numberOfMatches(self, n: int) -> int:\n",
    "        x = 0\n",
    "        while n // 2 != 0:\n",
    "            x += n //2  \n",
    "            if n%2 == 0: \n",
    "                n = n // 2 \n",
    "            else:\n",
    "                n = (n -1)/2 + 1 \n",
    "        return(int(x))\n",
    "    \n",
    "# class Solution:\n",
    "#     def numberOfMatches(self, n: int) -> int:\n",
    "#         return(n-1)"
   ]
  },
  {
   "cell_type": "markdown",
   "id": "9e24a64d",
   "metadata": {},
   "source": [
    "2828. Check if a String Is an Acronym of Words\n",
    "\n",
    "Given an array of strings words and a string s, determine if s is an acronym of words.\n",
    "\n",
    "The string s is considered an acronym of words if it can be formed by concatenating the first character of each string in words in order. For example, \"ab\" can be formed from [\"apple\", \"banana\"], but it can't be formed from [\"bear\", \"aardvark\"].\n",
    "\n",
    "Return true if s is an acronym of words, and false otherwise."
   ]
  },
  {
   "cell_type": "code",
   "execution_count": 23,
   "id": "a2d952bc",
   "metadata": {},
   "outputs": [
    {
     "name": "stdout",
     "output_type": "stream",
     "text": [
      "False\n"
     ]
    }
   ],
   "source": [
    "class Solution:\n",
    "    def isAcronym(self, words: List[str], s: str) -> bool:\n",
    "        s = list(s)\n",
    "\n",
    "        if len(words) != len(s):\n",
    "            return(False)\n",
    "        else:\n",
    "            for i in range(len(words)):\n",
    "                if s[i] != words[i][0]:\n",
    "                    return(False)\n",
    "            return(True)\n",
    "        \n",
    "# class Solution:\n",
    "#     def isAcronym(self, words: List[str], s: str) -> bool:\n",
    "#         return ''.join(word[0] for word in words) == s\n",
    "\n",
    "# class Solution:\n",
    "#     def isAcronym(self, words: List[str], s: str) -> bool:\n",
    "#         l=\"\"\n",
    "#         for i in words:\n",
    "#             l+=i[0]\n",
    "#         if l==s:\n",
    "#             return True\n",
    "\n",
    "# class Solution:\n",
    "#     def isAcronym(self, words: List[str], s: str) -> bool:\n",
    "#         return all(a==b[0] for a, b in zip_longest(s, words, fillvalue=[\"_\"]))"
   ]
  },
  {
   "cell_type": "markdown",
   "id": "cf4f0328",
   "metadata": {},
   "source": [
    "2373. Largest Local Values in a Matrix\n",
    "\n",
    "You are given an n x n integer matrix grid.\n",
    "\n",
    "Generate an integer matrix maxLocal of size (n - 2) x (n - 2) such that:\n",
    "\n",
    "maxLocal[i][j] is equal to the largest value of the 3 x 3 matrix in grid centered around row i + 1 and column j + 1.\n",
    "In other words, we want to find the largest value in every contiguous 3 x 3 matrix in grid.\n",
    "\n",
    "Return the generated matrix."
   ]
  },
  {
   "cell_type": "code",
   "execution_count": null,
   "id": "0154e91a",
   "metadata": {},
   "outputs": [],
   "source": [
    "class Solution:\n",
    "    def largestLocal(self, grid: List[List[int]]) -> List[List[int]]:\n",
    "        ans = []\n",
    "\n",
    "        for i in range(len(grid)-2):\n",
    "            \n",
    "            res= []\n",
    "            \n",
    "            for j in range(len(grid)-2):\n",
    "                \n",
    "                k = []\n",
    "                k.append(grid[i][j])\n",
    "                k.append(grid[i][j+1])\n",
    "                k.append(grid[i][j+2])\n",
    "                k.append(grid[i+1][j])\n",
    "                k.append(grid[i+1][j+1])\n",
    "                k.append(grid[i+1][j+2])\n",
    "                k.append(grid[i+2][j])\n",
    "                k.append(grid[i+2][j+1])\n",
    "                k.append(grid[i+2][j+2])\n",
    "    \n",
    "                res.append(max(k))\n",
    "        \n",
    "            ans.append(res)\n",
    "            \n",
    "        return(ans)\n",
    "    \n",
    "# class Solution:\n",
    "#     def largestLocal(self, grid: List[List[int]]) -> List[List[int]]:\n",
    "\n",
    "#         n = len(grid)\n",
    "\n",
    "#         ans = [[0]*(n-2) for _ in range(n-2)]\n",
    "        \n",
    "#         for i in range(n-2): \n",
    "#             for j in range(n-2): \n",
    "#                 ans[i][j] = max(grid[ii][jj] for ii in range(i, i+3) for jj in range(j, j+3))\n",
    "#         return ans \n",
    "\n",
    "\n",
    "# class Solution:\n",
    "#     def largestLocal(self, grid: List[List[int]]) -> List[List[int]]:\n",
    "        \n",
    "#         n = len(grid)\n",
    "        \n",
    "#         matrix = [[1]* (n-2) for i in range(n-2)]\n",
    "        \n",
    "#         for i in range(1, n - 1):\n",
    "#             for j in range(1, n - 1):\n",
    "#                 matrix[i-1][j-1] = max(grid[i-1][j-1], grid[i-1][j], grid[i-1][j+1],\n",
    "#                                   grid[i][j-1], grid[i][j], grid[i][j+1],\n",
    "#                                   grid[i+1][j-1], grid[i+1][j], grid[i+1][j+1])\n",
    "#         return matrix\n",
    "    \n",
    "    \n",
    "# class Solution:\n",
    "#     def largestLocal(self, grid: List[List[int]]) -> List[List[int]]:\n",
    "#         offsets = (\n",
    "#             (0,0),(0,1),(0,2),\n",
    "#             (1,0),(1,1),(1,2),\n",
    "#             (2,0),(2,1),(2,2),\n",
    "#         )\n",
    "#         n,res = len(grid),[]\n",
    "\n",
    "#         for i in range(n-2):\n",
    "#             arr = []\n",
    "\n",
    "#             for j in range(n-2): \n",
    "#                 max = 0\n",
    "\n",
    "#                 for x,y in offsets:\n",
    "#                     cur = grid[i+x][j+y]\n",
    "\n",
    "#                     if cur > max: max = cur\n",
    "                    \n",
    "#                 arr.append(max)\n",
    "\n",
    "#             res.append(arr)\n",
    "\n",
    "#         return res"
   ]
  },
  {
   "cell_type": "markdown",
   "id": "7d1405fb",
   "metadata": {},
   "source": [
    "557. Reverse Words in a String III\n",
    "\n",
    "Given a string s, reverse the order of characters in each word within a sentence while still preserving whitespace and initial word order.\n"
   ]
  },
  {
   "cell_type": "code",
   "execution_count": 198,
   "id": "e0ba0c19",
   "metadata": {},
   "outputs": [
    {
     "data": {
      "text/plain": [
       "\"s'teL ekat edoCteeL tsetnoc\""
      ]
     },
     "execution_count": 198,
     "metadata": {},
     "output_type": "execute_result"
    }
   ],
   "source": [
    "class Solution:\n",
    "    def reverseWords(self, s: str) -> str:\n",
    "        s = s.split(' ')\n",
    "\n",
    "        for i in range(len(s)):\n",
    "            s[i] = s[i][::-1]\n",
    "\n",
    "        x = ''\n",
    "\n",
    "        for i in s[:-1]:\n",
    "            x = x + i + ' '\n",
    "        return(x + s[-1])"
   ]
  },
  {
   "cell_type": "markdown",
   "id": "3a36042a",
   "metadata": {},
   "source": [
    "1572. Matrix Diagonal Sum\n",
    "\n",
    "Given a square matrix mat, return the sum of the matrix diagonals.\n",
    "\n",
    "Only include the sum of all the elements on the primary diagonal and all the elements on the secondary diagonal that are not part of the primary diagonal.\n"
   ]
  },
  {
   "cell_type": "code",
   "execution_count": 205,
   "id": "70902020",
   "metadata": {},
   "outputs": [
    {
     "data": {
      "text/plain": [
       "25"
      ]
     },
     "execution_count": 205,
     "metadata": {},
     "output_type": "execute_result"
    }
   ],
   "source": [
    "mat = [[1,2,3],\n",
    "        [4,5,6],\n",
    "        [7,8,9]]\n",
    "\n",
    "n = len(mat)\n",
    "mid = n // 2\n",
    "summation = 0\n",
    "\n",
    "for i in range(n):\n",
    "    summation += mat[i][i]\n",
    "    summation += mat[n-1-i][i]\n",
    "    \n",
    "    if n % 2 == 1:\n",
    "        summation -= mat[mid][mid]  \n",
    "\n",
    "summation"
   ]
  },
  {
   "cell_type": "code",
   "execution_count": null,
   "id": "7d86d4fb",
   "metadata": {},
   "outputs": [],
   "source": [
    "\n",
    " \n",
    "\n",
    "Example 1:\n",
    "\n",
    "\n",
    "Input: mat = [[1,2,3],\n",
    "              [4,5,6],\n",
    "              [7,8,9]]\n",
    "Output: 25\n",
    "Explanation: Diagonals sum: 1 + 5 + 9 + 3 + 7 = 25\n",
    "Notice that element mat[1][1] = 5 is counted only once.\n",
    "\n",
    "Example 2:\n",
    "\n",
    "Input: mat = [[1,1,1,1],\n",
    "              [1,1,1,1],\n",
    "              [1,1,1,1],\n",
    "              [1,1,1,1]]\n",
    "Output: 8\n",
    "Example 3:\n",
    "\n",
    "Input: mat = [[5]]\n",
    "Output: 5"
   ]
  },
  {
   "cell_type": "code",
   "execution_count": null,
   "id": "49f09dd4",
   "metadata": {},
   "outputs": [],
   "source": []
  },
  {
   "cell_type": "code",
   "execution_count": null,
   "id": "0416d267",
   "metadata": {},
   "outputs": [],
   "source": []
  },
  {
   "cell_type": "code",
   "execution_count": null,
   "id": "8fd7e477",
   "metadata": {},
   "outputs": [],
   "source": []
  },
  {
   "cell_type": "code",
   "execution_count": null,
   "id": "a268fff7",
   "metadata": {},
   "outputs": [],
   "source": []
  }
 ],
 "metadata": {
  "kernelspec": {
   "display_name": "Python 3",
   "language": "python",
   "name": "python3"
  },
  "language_info": {
   "codemirror_mode": {
    "name": "ipython",
    "version": 3
   },
   "file_extension": ".py",
   "mimetype": "text/x-python",
   "name": "python",
   "nbconvert_exporter": "python",
   "pygments_lexer": "ipython3",
   "version": "3.8.8"
  }
 },
 "nbformat": 4,
 "nbformat_minor": 5
}
