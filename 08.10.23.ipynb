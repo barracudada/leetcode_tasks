{
 "cells": [
  {
   "cell_type": "markdown",
   "id": "3bf7da41",
   "metadata": {},
   "source": [
    "1662. Check If Two String Arrays are Equivalent\n",
    "\n",
    "Given two string arrays word1 and word2, return true if the two arrays represent the same string, and false otherwise.\n",
    "\n",
    "A string is represented by an array if the array elements concatenated in order forms the string."
   ]
  },
  {
   "cell_type": "code",
   "execution_count": 7,
   "id": "d17c74cf",
   "metadata": {},
   "outputs": [
    {
     "data": {
      "text/plain": [
       "True"
      ]
     },
     "execution_count": 7,
     "metadata": {},
     "output_type": "execute_result"
    }
   ],
   "source": [
    "class Solution:\n",
    "    def arrayStringsAreEqual(self, word1: List[str], word2: List[str]) -> bool:\n",
    "        return(''.join(word1) == ''.join(word2))"
   ]
  },
  {
   "cell_type": "markdown",
   "id": "a139f335",
   "metadata": {},
   "source": [
    "2535. Difference Between Element Sum and Digit Sum of an Array\n",
    "\n",
    "You are given a positive integer array nums.\n",
    "\n",
    "The element sum is the sum of all the elements in nums.\n",
    "The digit sum is the sum of all the digits (not necessarily distinct) that appear in nums.\n",
    "Return the absolute difference between the element sum and digit sum of nums.\n",
    "\n",
    "Note that the absolute difference between two integers x and y is defined as |x - y|."
   ]
  },
  {
   "cell_type": "code",
   "execution_count": 19,
   "id": "16d5c36c",
   "metadata": {},
   "outputs": [
    {
     "data": {
      "text/plain": [
       "9"
      ]
     },
     "execution_count": 19,
     "metadata": {},
     "output_type": "execute_result"
    }
   ],
   "source": [
    "class Solution:\n",
    "    def differenceOfSum(self, nums: List[int]) -> int:\n",
    "        e_s = 0\n",
    "        d_s = 0\n",
    "        for i in nums:\n",
    "            e_s += i\n",
    "            while i != 0:\n",
    "                d_s = d_s + i%10\n",
    "                i = i // 10\n",
    "        return(abs(e_s - d_s))"
   ]
  },
  {
   "cell_type": "markdown",
   "id": "4c1e4190",
   "metadata": {},
   "source": [
    "2236. Root Equals Sum of Children\n",
    "\n",
    "You are given the root of a binary tree that consists of exactly 3 nodes: the root, its left child, and its right child.\n",
    "\n",
    "Return true if the value of the root is equal to the sum of the values of its two children, or false otherwise."
   ]
  },
  {
   "cell_type": "code",
   "execution_count": null,
   "id": "b3b03013",
   "metadata": {},
   "outputs": [],
   "source": [
    "# Definition for a binary tree node.\n",
    "# class TreeNode:\n",
    "#     def __init__(self, val=0, left=None, right=None):\n",
    "#         self.val = val\n",
    "#         self.left = left\n",
    "#         self.right = right\n",
    "class Solution:\n",
    "    def checkTree(self, root: Optional[TreeNode]) -> bool:\n",
    "        return root.val==root.left.val+root.right.val"
   ]
  },
  {
   "cell_type": "markdown",
   "id": "68f349a5",
   "metadata": {},
   "source": [
    "1791. Find Center of Star Graph\n",
    "\n",
    "There is an undirected star graph consisting of n nodes labeled from 1 to n. A star graph is a graph where there is one center node and exactly n - 1 edges that connect the center node with every other node.\n",
    "\n",
    "You are given a 2D integer array edges where each edges[i] = [ui, vi] indicates that there is an edge between the nodes ui and vi. Return the center of the given star graph."
   ]
  },
  {
   "cell_type": "code",
   "execution_count": null,
   "id": "639cce8c",
   "metadata": {},
   "outputs": [],
   "source": [
    "class Solution:\n",
    "    def findCenter(self, edges: List[List[int]]) -> int:\n",
    "        return list(set(edges[0]) & set(edges[1]))[0]"
   ]
  },
  {
   "cell_type": "markdown",
   "id": "d72a8ca1",
   "metadata": {},
   "source": [
    "2367. Number of Arithmetic Triplets\n",
    "\n",
    "You are given a 0-indexed, strictly increasing integer array nums and a positive integer diff. A triplet (i, j, k) is an arithmetic triplet if the following conditions are met:\n",
    "\n",
    "i < j < k,\n",
    "nums[j] - nums[i] == diff, and\n",
    "nums[k] - nums[j] == diff.\n",
    "Return the number of unique arithmetic triplets."
   ]
  },
  {
   "cell_type": "code",
   "execution_count": null,
   "id": "bbaffbf0",
   "metadata": {},
   "outputs": [],
   "source": []
  },
  {
   "cell_type": "code",
   "execution_count": null,
   "id": "2e5bdf4d",
   "metadata": {},
   "outputs": [],
   "source": []
  }
 ],
 "metadata": {
  "kernelspec": {
   "display_name": "Python 3 (ipykernel)",
   "language": "python",
   "name": "python3"
  },
  "language_info": {
   "codemirror_mode": {
    "name": "ipython",
    "version": 3
   },
   "file_extension": ".py",
   "mimetype": "text/x-python",
   "name": "python",
   "nbconvert_exporter": "python",
   "pygments_lexer": "ipython3",
   "version": "3.9.10"
  }
 },
 "nbformat": 4,
 "nbformat_minor": 5
}
