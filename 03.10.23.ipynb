{
 "cells": [
  {
   "cell_type": "markdown",
   "id": "b468caa8",
   "metadata": {},
   "source": [
    "2798. Number of Employees Who Met the Target\n",
    "\n",
    "There are n employees in a company, numbered from 0 to n - 1. Each employee i has worked for hours[i] hours in the company.\n",
    "\n",
    "The company requires each employee to work for at least target hours.\n",
    "\n",
    "You are given a 0-indexed array of non-negative integers hours of length n and a non-negative integer target.\n",
    "\n",
    "Return the integer denoting the number of employees who worked at least target hours."
   ]
  },
  {
   "cell_type": "code",
   "execution_count": 1,
   "id": "ae961c8f",
   "metadata": {},
   "outputs": [
    {
     "data": {
      "text/plain": [
       "3"
      ]
     },
     "execution_count": 1,
     "metadata": {},
     "output_type": "execute_result"
    }
   ],
   "source": [
    "class Solution:\n",
    "    def numberOfEmployeesWhoMetTarget(self, hours: List[int], target: int) -> int:\n",
    "        x = 0\n",
    "        for i in hours:\n",
    "            if i >= target:\n",
    "                x+= 1\n",
    "        return(x)"
   ]
  },
  {
   "cell_type": "markdown",
   "id": "a8b93e53",
   "metadata": {},
   "source": [
    "1672. Richest Customer Wealth\n",
    "\n",
    "You are given an m x n integer grid accounts where accounts[i][j] is the amount of money the i-th customer has in the j-th bank. Return the wealth that the richest customer has.\n",
    "\n",
    "A customer's wealth is the amount of money they have in all their bank accounts. The richest customer is the customer that has the maximum wealth."
   ]
  },
  {
   "cell_type": "code",
   "execution_count": 3,
   "id": "e6b9aae7",
   "metadata": {},
   "outputs": [
    {
     "data": {
      "text/plain": [
       "10"
      ]
     },
     "execution_count": 3,
     "metadata": {},
     "output_type": "execute_result"
    }
   ],
   "source": [
    "class Solution:\n",
    "    def maximumWealth(self, accounts: List[List[int]]) -> int:\n",
    "        x = 0\n",
    "        for i in accounts:\n",
    "            x = max(x, sum(i))\n",
    "        return(x)"
   ]
  },
  {
   "cell_type": "markdown",
   "id": "1578a1cb",
   "metadata": {},
   "source": [
    "1431. Kids With the Greatest Number of Candies\n",
    "\n",
    "There are n kids with candies. You are given an integer array candies, where each candies[i] represents the number of candies the ith kid has, and an integer extraCandies, denoting the number of extra candies that you have.\n",
    "\n",
    "Return a boolean array result of length n, where result[i] is true if, after giving the ith kid all the extraCandies, they will have the greatest number of candies among all the kids, or false otherwise.\n",
    "\n",
    "Note that multiple kids can have the greatest number of candies."
   ]
  },
  {
   "cell_type": "code",
   "execution_count": 4,
   "id": "39c2af7a",
   "metadata": {},
   "outputs": [
    {
     "data": {
      "text/plain": [
       "[True, True, True, False, True]"
      ]
     },
     "execution_count": 4,
     "metadata": {},
     "output_type": "execute_result"
    }
   ],
   "source": [
    "class Solution:\n",
    "    def kidsWithCandies(self, candies: List[int], extraCandies: int) -> List[bool]:\n",
    "        x = max(candies)\n",
    "        itg = []\n",
    "\n",
    "        for i in candies:\n",
    "            if i + extraCandies >= x:\n",
    "                itg.append(True)\n",
    "            else:\n",
    "                itg.append(False)\n",
    "        return(itg)"
   ]
  },
  {
   "cell_type": "markdown",
   "id": "debacd22",
   "metadata": {},
   "source": [
    "2413. Smallest Even Multiple\n",
    "\n",
    "Given a positive integer n, return the smallest positive integer that is a multiple of both 2 and n."
   ]
  },
  {
   "cell_type": "code",
   "execution_count": null,
   "id": "2d93c499",
   "metadata": {},
   "outputs": [],
   "source": [
    "class Solution:\n",
    "    def smallestEvenMultiple(self, n: int) -> int:\n",
    "        return(n if n % 2 ==0 else n * 2)"
   ]
  },
  {
   "cell_type": "markdown",
   "id": "c7abe9ff",
   "metadata": {},
   "source": [
    "2824. Count Pairs Whose Sum is Less than Target\n",
    "\n",
    "Given a 0-indexed integer array nums of length n and an integer target, return the number of pairs (i, j) where 0 <= i < j < n and nums[i] + nums[j] < target."
   ]
  },
  {
   "cell_type": "code",
   "execution_count": 23,
   "id": "7b3930ac",
   "metadata": {},
   "outputs": [
    {
     "data": {
      "text/plain": [
       "3"
      ]
     },
     "execution_count": 23,
     "metadata": {},
     "output_type": "execute_result"
    }
   ],
   "source": [
    "class Solution:\n",
    "    def countPairs(self, nums: List[int], target: int) -> int:\n",
    "        x = 0\n",
    "\n",
    "        j = len(nums)\n",
    "\n",
    "        for i in range(0, j):\n",
    "            for end in range(i+1, j):\n",
    "                if nums[i] + nums[end] < target:\n",
    "                    x+= 1\n",
    "\n",
    "        return(x)"
   ]
  },
  {
   "cell_type": "code",
   "execution_count": 20,
   "id": "0865a137",
   "metadata": {},
   "outputs": [
    {
     "data": {
      "text/plain": [
       "{(0, 7), (1, 7), (3, 7), (4, 7)}"
      ]
     },
     "execution_count": 20,
     "metadata": {},
     "output_type": "execute_result"
    }
   ],
   "source": [
    "set(x)"
   ]
  },
  {
   "cell_type": "code",
   "execution_count": null,
   "id": "01a76418",
   "metadata": {},
   "outputs": [],
   "source": [
    "\n",
    "\n",
    "Example 1:\n",
    "\n",
    "Input: nums = [-1,1,2,3,1], target = 2\n",
    "Output: 3\n",
    "Explanation: There are 3 pairs of indices that satisfy the conditions in the statement:\n",
    "- (0, 1) since 0 < 1 and nums[0] + nums[1] = 0 < target\n",
    "- (0, 2) since 0 < 2 and nums[0] + nums[2] = 1 < target \n",
    "- (0, 4) since 0 < 4 and nums[0] + nums[4] = 0 < target\n",
    "Note that (0, 3) is not counted since nums[0] + nums[3] is not strictly less than the target.\n",
    "Example 2:\n",
    "\n",
    "Input: nums = [-6,2,5,-2,-7,-1,3], target = -2\n",
    "Output: 10\n",
    "Explanation: There are 10 pairs of indices that satisfy the conditions in the statement:\n",
    "- (0, 1) since 0 < 1 and nums[0] + nums[1] = -4 < target\n",
    "- (0, 3) since 0 < 3 and nums[0] + nums[3] = -8 < target\n",
    "- (0, 4) since 0 < 4 and nums[0] + nums[4] = -13 < target\n",
    "- (0, 5) since 0 < 5 and nums[0] + nums[5] = -7 < target\n",
    "- (0, 6) since 0 < 6 and nums[0] + nums[6] = -3 < target\n",
    "- (1, 4) since 1 < 4 and nums[1] + nums[4] = -5 < target\n",
    "- (3, 4) since 3 < 4 and nums[3] + nums[4] = -9 < target\n",
    "- (3, 5) since 3 < 5 and nums[3] + nums[5] = -3 < target\n",
    "- (4, 5) since 4 < 5 and nums[4] + nums[5] = -8 < target\n",
    "- (4, 6) since 4 < 6 and nums[4] + nums[6] = -4 < target"
   ]
  },
  {
   "cell_type": "code",
   "execution_count": null,
   "id": "fefc88da",
   "metadata": {},
   "outputs": [],
   "source": []
  },
  {
   "cell_type": "code",
   "execution_count": null,
   "id": "c7b84fd2",
   "metadata": {},
   "outputs": [],
   "source": []
  },
  {
   "cell_type": "code",
   "execution_count": null,
   "id": "facd058d",
   "metadata": {},
   "outputs": [],
   "source": []
  },
  {
   "cell_type": "code",
   "execution_count": null,
   "id": "5df33e9a",
   "metadata": {},
   "outputs": [],
   "source": []
  },
  {
   "cell_type": "code",
   "execution_count": null,
   "id": "da100bb1",
   "metadata": {},
   "outputs": [],
   "source": []
  },
  {
   "cell_type": "code",
   "execution_count": null,
   "id": "1a66bb43",
   "metadata": {},
   "outputs": [],
   "source": []
  }
 ],
 "metadata": {
  "kernelspec": {
   "display_name": "Python 3",
   "language": "python",
   "name": "python3"
  },
  "language_info": {
   "codemirror_mode": {
    "name": "ipython",
    "version": 3
   },
   "file_extension": ".py",
   "mimetype": "text/x-python",
   "name": "python",
   "nbconvert_exporter": "python",
   "pygments_lexer": "ipython3",
   "version": "3.8.8"
  }
 },
 "nbformat": 4,
 "nbformat_minor": 5
}
