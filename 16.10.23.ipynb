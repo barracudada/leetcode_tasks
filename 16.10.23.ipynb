{
 "cells": [
  {
   "cell_type": "markdown",
   "id": "0685bcc7",
   "metadata": {},
   "source": [
    "1309. Decrypt String from Alphabet to Integer Mapping\n",
    "\n",
    "You are given a string s formed by digits and '#'. We want to map s to English lowercase characters as follows:\n",
    "\n",
    "Characters ('a' to 'i') are represented by ('1' to '9') respectively.\n",
    "Characters ('j' to 'z') are represented by ('10#' to '26#') respectively.\n",
    "Return the string formed after mapping.\n",
    "\n",
    "The test cases are generated so that a unique mapping will always exist."
   ]
  },
  {
   "cell_type": "code",
   "execution_count": null,
   "id": "f029cbb8",
   "metadata": {},
   "outputs": [],
   "source": [
    "class Solution:\n",
    "    def freqAlphabets(self, s: str) -> str:\n",
    "        dic = {'1':'a','2':'b','3':'c','4':'d','5':'e','6':'f','7':'g','8':'h','9':'i','10':'j','11':'k','12':'l','13':'m','14':'n','15':'o','16':'p','17':'q','18':'r','19':'s','20':'t','21':'u','22':'v','23':'w','24':'x','25':'y','26':'z'}\n",
    "        z = ''\n",
    "        pre_z = ''\n",
    "\n",
    "        for n,i in enumerate(s):\n",
    "            if i == '#':\n",
    "                z += pre_z[:-2] + dic[s[n-2:n]]\n",
    "                pre_z = ''\n",
    "            elif i == '0':\n",
    "                pre_z += 'A'\n",
    "            else:\n",
    "                pre_z += dic[i]\n",
    "                \n",
    "        return(z + pre_z)\n",
    "    \n"
   ]
  },
  {
   "cell_type": "markdown",
   "id": "8778e2fb",
   "metadata": {},
   "source": [
    "2176. Count Equal and Divisible Pairs in an Array\n",
    "\n",
    "Given a 0-indexed integer array nums of length n and an integer k, return the number of pairs (i, j) where 0 <= i < j < n, such that nums[i] == nums[j] and (i * j) is divisible by k. "
   ]
  },
  {
   "cell_type": "code",
   "execution_count": null,
   "id": "c69344d1",
   "metadata": {},
   "outputs": [],
   "source": [
    "class Solution:\n",
    "    def countPairs(self, nums: List[int], k: int) -> int:\n",
    "        it = 0\n",
    "        x = 0\n",
    "\n",
    "        for i in range(0, len(nums)):\n",
    "            if nums[i] in nums[i+1:]:\n",
    "                for j in range(i, len(nums)):\n",
    "                    if nums[i] == nums[j] and (i * j) % k ==0 and i != j:\n",
    "                        x += 1 \n",
    "                        \n",
    "        return(x)\n",
    "\n",
    "# class Solution:\n",
    "#     def countPairs(self, nums: List[int], k: int) -> int:\n",
    "#         cnt, d = 0, defaultdict(list)\n",
    "#         for i, n in enumerate(nums):\n",
    "#             d[n].append(i)\n",
    "#         for indices in d.values():    \n",
    "#             for i, a in enumerate(indices):\n",
    "#                 for b in indices[: i]:\n",
    "#                     if a * b % k == 0:\n",
    "#                         cnt += 1\n",
    "#         return cnt"
   ]
  },
  {
   "cell_type": "markdown",
   "id": "3f36f94a",
   "metadata": {},
   "source": [
    "1768. Merge Strings Alternately\n",
    "\n",
    "You are given two strings word1 and word2. Merge the strings by adding letters in alternating order, starting with word1. If a string is longer than the other, append the additional letters onto the end of the merged string.\n",
    "\n",
    "Return the merged string."
   ]
  },
  {
   "cell_type": "code",
   "execution_count": null,
   "id": "c547ab14",
   "metadata": {},
   "outputs": [],
   "source": [
    "class Solution:\n",
    "    def mergeAlternately(self, word1: str, word2: str) -> str:\n",
    "        x = ''\n",
    "\n",
    "        for i,j in zip(word1, word2):\n",
    "            x += i + j\n",
    "        if len(word1) > len(word2): \n",
    "            x+= word1[len(word2):]\n",
    "        else:\n",
    "            x+= word2[len(word1):]\n",
    "        return(x)\n",
    "    \n",
    "# class Solution:\n",
    "#     def mergeAlternately(self, word1: str, word2: str) -> str:\n",
    "#         res=''\n",
    "#         for i in range(min(len(word1),len(word2))):\n",
    "#             res += word1[i] + word2[i]\n",
    "#         return res + word1[i+1:] + word2[i+1:]"
   ]
  },
  {
   "cell_type": "markdown",
   "id": "d08c97dc",
   "metadata": {},
   "source": [
    "1266. Minimum Time Visiting All Points\n",
    "\n",
    "On a 2D plane, there are n points with integer coordinates points[i] = [xi, yi]. Return the minimum time in seconds to visit all the points in the order given by points.\n",
    "\n",
    "You can move according to these rules:\n",
    "\n",
    "In 1 second, you can either:\n",
    "move vertically by one unit,\n",
    "move horizontally by one unit, or\n",
    "move diagonally sqrt(2) units (in other words, move one unit vertically then one unit horizontally in 1 second).\n",
    "You have to visit the points in the same order as they appear in the array.\n",
    "You are allowed to pass through points that appear later in the order, but these do not count as visits."
   ]
  },
  {
   "cell_type": "code",
   "execution_count": null,
   "id": "87005153",
   "metadata": {},
   "outputs": [],
   "source": [
    "class Solution:\n",
    "    def minTimeToVisitAllPoints(self, points: List[List[int]]) -> int:\n",
    "        return sum([max(abs(points[i-1][0] - points[i][0]), abs(points[i-1][1] - points[i][1])) for i in range(1,len(points))])\n",
    "    \n",
    "# class Solution:\n",
    "#     def minTimeToVisitAllPoints(self, points: List[List[int]]) -> int:\n",
    "#         if len(points) == 1:\n",
    "#             return 0\n",
    "#         new = points[0]\n",
    "#         steps = 0\n",
    "#         for pt in points[1:]:\n",
    "#             steps += max(abs(new[0]-pt[0]), abs(new[1]-pt[1]))\n",
    "#             new = pt\n",
    "#         return steps"
   ]
  },
  {
   "cell_type": "markdown",
   "id": "4b0fe1a5",
   "metadata": {},
   "source": [
    "1267. Count Servers that Communicate\n",
    "\n",
    "You are given a map of a server center, represented as a m * n integer matrix grid, where 1 means that on that cell there is a server and 0 means that it is no server. Two servers are said to communicate if they are on the same row or on the same column.\n",
    "\n",
    "Return the number of servers that communicate with any other server."
   ]
  },
  {
   "cell_type": "code",
   "execution_count": null,
   "id": "0a8ae9b0",
   "metadata": {},
   "outputs": [],
   "source": [
    "class Solution:\n",
    "    def countServers(self, grid: List[List[int]]) -> int:\n",
    "        rows = len(grid)\n",
    "        cols = len(grid[0])\n",
    "                \n",
    "        if not (cols and rows):\n",
    "            return 0\n",
    "\n",
    "        connected = 0                  \n",
    "        points=[]                      \n",
    "        comps_per_row = [0] * rows     \n",
    "        comps_per_col = [0] * cols     \n",
    "                \n",
    "        for row_i in range(rows):\n",
    "            for col_i in range(cols):\n",
    "                if grid[row_i][col_i]:              \n",
    "                    points.append((row_i,col_i))    \n",
    "                    comps_per_row[row_i]+=1         \n",
    "                    comps_per_col[col_i]+=1   \n",
    "                    \n",
    "        for row_i,col_i in points:\n",
    "            if comps_per_row[row_i]>1 or comps_per_col[col_i]>1 :\n",
    "                connected += 1                      \n",
    "                \n",
    "        return connected\n",
    "    \n",
    "# class Solution:\n",
    "#     def countServers(self, grid: List[List[int]]) -> int:\n",
    "        \n",
    "#         m,n = len(grid),len(grid[0])\n",
    "#         rows = [0]*m\n",
    "#         cols = [0]*n\n",
    "#         total = 0\n",
    "#         for i in range(m):\n",
    "#             for j in range(n):\n",
    "#                 if grid[i][j]==1:\n",
    "#                     rows[i]+=1\n",
    "#                     cols[j]+=1\n",
    "#                     total+=1\n",
    "        \n",
    "#         cnt = 0\n",
    "#         for i in range(m):\n",
    "#             for j in range(n):\n",
    "#                 if grid[i][j]==1 and rows[i]==1 and cols[j]==1:\n",
    "#                     cnt+=1\n",
    "        \n",
    "#         return total-cnt"
   ]
  }
 ],
 "metadata": {
  "kernelspec": {
   "display_name": "Python 3",
   "language": "python",
   "name": "python3"
  },
  "language_info": {
   "codemirror_mode": {
    "name": "ipython",
    "version": 3
   },
   "file_extension": ".py",
   "mimetype": "text/x-python",
   "name": "python",
   "nbconvert_exporter": "python",
   "pygments_lexer": "ipython3",
   "version": "3.8.8"
  }
 },
 "nbformat": 4,
 "nbformat_minor": 5
}
