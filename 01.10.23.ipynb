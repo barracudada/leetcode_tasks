{
 "cells": [
  {
   "cell_type": "markdown",
   "id": "e11a44a8",
   "metadata": {},
   "source": [
    "108. Convert Sorted Array to Binary Search Tree\n",
    "\n",
    "Given an integer array nums where the elements are sorted in ascending order, convert it to a \n",
    "height-balanced\n",
    " binary search tree."
   ]
  },
  {
   "cell_type": "code",
   "execution_count": null,
   "id": "c75c4a5f",
   "metadata": {},
   "outputs": [],
   "source": [
    "# Definition for a binary tree node.\n",
    "# class TreeNode:\n",
    "#     def __init__(self, val=0, left=None, right=None):\n",
    "#         self.val = val\n",
    "#         self.left = left\n",
    "#         self.right = right\n",
    "class Solution:\n",
    "    def sortedArrayToBST(self, nums: List[int]) -> TreeNode:\n",
    "        def cv(node,vals)->TreeNode:\n",
    "            if vals:\n",
    "                mid=len(vals)//2\n",
    "                node.val,node.left,node.right=vals[mid],cv(TreeNode(),vals[:mid]),cv(TreeNode(),vals[mid+1:])\n",
    "                return node\n",
    "            else:\n",
    "                return None\n",
    "        return cv(TreeNode(),nums)"
   ]
  },
  {
   "cell_type": "markdown",
   "id": "6e3c525d",
   "metadata": {},
   "source": [
    "110. Balanced Binary Tree\n",
    "\n",
    "Given a binary tree, determine if it is \n",
    "height-balanced"
   ]
  },
  {
   "cell_type": "code",
   "execution_count": null,
   "id": "c4c3c7aa",
   "metadata": {},
   "outputs": [],
   "source": [
    "class Solution(object):\n",
    "    def isBalanced(self, root):\n",
    "        return (self.Height(root) >= 0)\n",
    "    def Height(self, root):\n",
    "        if root is None:  return 0\n",
    "        leftheight, rightheight = self.Height(root.left), self.Height(root.right)\n",
    "        if leftheight < 0 or rightheight < 0 or abs(leftheight - rightheight) > 1:  return -1\n",
    "        return max(leftheight, rightheight) + 1"
   ]
  },
  {
   "cell_type": "markdown",
   "id": "34d5ffa2",
   "metadata": {},
   "source": [
    "111. Minimum Depth of Binary Tree\n",
    "\n",
    "Given a binary tree, find its minimum depth.\n",
    "\n",
    "The minimum depth is the number of nodes along the shortest path from the root node down to the nearest leaf node."
   ]
  },
  {
   "cell_type": "code",
   "execution_count": null,
   "id": "6b58833b",
   "metadata": {},
   "outputs": [],
   "source": [
    "# Definition for a binary tree node.\n",
    "# class TreeNode:\n",
    "#     def __init__(self, val=0, left=None, right=None):\n",
    "#         self.val = val\n",
    "#         self.left = left\n",
    "#         self.right = right\n",
    "class Solution:\n",
    "    def minDepth(self, root: Optional[TreeNode]) -> int:\n",
    "        self.maximum=1e8\n",
    "        if root==None:\n",
    "            return 0\n",
    "        def topToBottom(node, depth):\n",
    "            if not node.left and not node.right:\n",
    "                self.maximum=min(self.maximum, depth+1)\n",
    "            if node.left:\n",
    "                topToBottom(node.left, depth+1)\n",
    "            if node.right:\n",
    "                topToBottom(node.right, depth+1)\n",
    "        topToBottom(root, 0)\n",
    "        return self.maximum"
   ]
  },
  {
   "cell_type": "markdown",
   "id": "7270066f",
   "metadata": {},
   "source": [
    "112. Path Sum\n",
    "\n",
    "Given the root of a binary tree and an integer targetSum, return true if the tree has a root-to-leaf path such that adding up all the values along the path equals targetSum.\n",
    "\n",
    "A leaf is a node with no children."
   ]
  },
  {
   "cell_type": "code",
   "execution_count": null,
   "id": "d55d425b",
   "metadata": {},
   "outputs": [],
   "source": [
    "# Definition for a binary tree node.\n",
    "# class TreeNode:\n",
    "#     def __init__(self, val=0, left=None, right=None):\n",
    "#         self.val = val\n",
    "#         self.left = left\n",
    "#         self.right = right\n",
    "class Solution:\n",
    "    def hasPathSum(self, root: Optional[TreeNode], targetSum: int) -> bool:\n",
    "        if root is None:\n",
    "            return False\n",
    "        if root.left is None and root.right is None:\n",
    "            return root.val == targetSum\n",
    "        def sum(node,s,S):\n",
    "            if node.left is None and node.right is None:\n",
    "                S.append(s)\n",
    "            # if node.left is not None and node.right is not None:\n",
    "            #     sum(node.left,s+node.left.val,S)\n",
    "            #     sum(node.right,s+node.right.val,S)\n",
    "            if node.left is not None:\n",
    "                sum(node.left,s+node.left.val,S)\n",
    "            if node.right is not None:\n",
    "                sum(node.right,s+node.right.val,S)\n",
    "            return S\n",
    "        return targetSum in sum(root,root.val,[])"
   ]
  },
  {
   "cell_type": "code",
   "execution_count": null,
   "id": "4944a864",
   "metadata": {},
   "outputs": [],
   "source": []
  },
  {
   "cell_type": "code",
   "execution_count": null,
   "id": "0f60c5ec",
   "metadata": {},
   "outputs": [],
   "source": []
  }
 ],
 "metadata": {
  "kernelspec": {
   "display_name": "Python 3 (ipykernel)",
   "language": "python",
   "name": "python3"
  },
  "language_info": {
   "codemirror_mode": {
    "name": "ipython",
    "version": 3
   },
   "file_extension": ".py",
   "mimetype": "text/x-python",
   "name": "python",
   "nbconvert_exporter": "python",
   "pygments_lexer": "ipython3",
   "version": "3.9.10"
  }
 },
 "nbformat": 4,
 "nbformat_minor": 5
}
