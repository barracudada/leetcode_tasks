{
 "cells": [
  {
   "cell_type": "markdown",
   "id": "502a4d9a",
   "metadata": {},
   "source": [
    "125. Valid Palindrome\n",
    "\n",
    "A phrase is a palindrome if, after converting all uppercase letters into lowercase letters \n",
    "and removing all non-alphanumeric characters, it reads the same forward and backward. \n",
    "Alphanumeric characters include letters and numbers.\n",
    "\n",
    "Given a string s, return true if it is a palindrome, or false otherwise."
   ]
  },
  {
   "cell_type": "code",
   "execution_count": null,
   "id": "0e8a714c",
   "metadata": {},
   "outputs": [],
   "source": [
    "class Solution:\n",
    "    def isPalindrome(self, s: str) -> bool:\n",
    "        s = s.lower().replace(' ', '')\n",
    "\n",
    "        for i in s:\n",
    "            if i.isalnum() == False:\n",
    "                s = s.replace(i, '')\n",
    "        return(s == s[::-1])\n",
    "    \n",
    "    \n",
    "# class Solution:\n",
    "#     def isPalindrome(self, s: str) -> bool:\n",
    "#         s1 = ''\n",
    "#         for c in s.lower():\n",
    "#             if c.isalpha() or c.isnumeric():\n",
    "#                 s1 += c\n",
    "#         print(s1)\n",
    "\n",
    "#         s = s1[::-1]\n",
    "#         return True if s1==s else False\n",
    "    \n",
    "    \n",
    "# class Solution:\n",
    "#     def isPalindrome(self, s: str) -> bool:\n",
    "#         s = [c.lower() for c in s if c.isalnum()]\n",
    "#         return all (s[i] == s[~i] for i in range(len(s)//2))"
   ]
  },
  {
   "cell_type": "markdown",
   "id": "3b58a47f",
   "metadata": {},
   "source": [
    "168. Excel Sheet Column Title\n",
    "\n",
    "Given an integer columnNumber, return its corresponding column title as it appears in an Excel sheet."
   ]
  },
  {
   "cell_type": "code",
   "execution_count": null,
   "id": "fecb060c",
   "metadata": {},
   "outputs": [],
   "source": [
    "class Solution:\n",
    "    def convertToTitle(self, n: int) -> str:\n",
    "        ans = []\n",
    "        while n:\n",
    "            n -= 1\n",
    "            ch = n%26\n",
    "            ans.append( chr(ch + ord('A')) )\n",
    "            n = n//26\n",
    "        return \"\".join(reversed(ans))"
   ]
  },
  {
   "cell_type": "markdown",
   "id": "8da1f4c7",
   "metadata": {},
   "source": [
    "169. Majority Element\n",
    "\n",
    "Given an array nums of size n, return the majority element.\n",
    "\n",
    "The majority element is the element that appears more than ⌊n / 2⌋ times. \n",
    "You may assume that the majority element always exists in the array."
   ]
  },
  {
   "cell_type": "code",
   "execution_count": null,
   "id": "0920827d",
   "metadata": {},
   "outputs": [],
   "source": [
    "class Solution:\n",
    "    def majorityElement(self, nums: List[int]) -> int:\n",
    "        d = {}\n",
    "\n",
    "        for i in nums:\n",
    "            if i not in d:\n",
    "                d[i] = 1\n",
    "            else:\n",
    "                d[i] += 1\n",
    "        d = {k: v for v, k in d.items()}     \n",
    "        return(d[max(i[0] for i in d.items())])\n",
    "    \n",
    "\n",
    "# class Solution:\n",
    "#     def majorityElement(self, nums: List[int]) -> int:\n",
    "#         nums.sort()\n",
    "#         n = len(nums)\n",
    "#         return nums[n//2]"
   ]
  },
  {
   "cell_type": "markdown",
   "id": "a20fc630",
   "metadata": {},
   "source": [
    "171. Excel Sheet Column Number\n",
    "\n",
    "Given a string columnTitle that represents the column title as appears in an Excel sheet, \n",
    "return its corresponding column number."
   ]
  },
  {
   "cell_type": "code",
   "execution_count": null,
   "id": "d7529985",
   "metadata": {},
   "outputs": [],
   "source": [
    "class Solution:\n",
    "    def titleToNumber(self, s: str) -> int:\n",
    "        n = len(s)\n",
    "        cnt = [0] * 7\n",
    "        p = 0\n",
    "        for i in range(n -1, -1, -1):\n",
    "            cnt[i] = (ord(s[i]) - ord('A') + 1) * 26 ** p\n",
    "            p += 1\n",
    "        return sum(cnt)"
   ]
  },
  {
   "cell_type": "code",
   "execution_count": null,
   "id": "cc43f204",
   "metadata": {},
   "outputs": [],
   "source": []
  },
  {
   "cell_type": "code",
   "execution_count": null,
   "id": "be888c9d",
   "metadata": {},
   "outputs": [],
   "source": []
  }
 ],
 "metadata": {
  "kernelspec": {
   "display_name": "Python 3 (ipykernel)",
   "language": "python",
   "name": "python3"
  },
  "language_info": {
   "codemirror_mode": {
    "name": "ipython",
    "version": 3
   },
   "file_extension": ".py",
   "mimetype": "text/x-python",
   "name": "python",
   "nbconvert_exporter": "python",
   "pygments_lexer": "ipython3",
   "version": "3.9.10"
  }
 },
 "nbformat": 4,
 "nbformat_minor": 5
}
